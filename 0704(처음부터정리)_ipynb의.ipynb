{
  "nbformat": 4,
  "nbformat_minor": 0,
  "metadata": {
    "colab": {
      "provenance": [],
      "authorship_tag": "ABX9TyONyR5FgOJMXLOKkjhxz7kW",
      "include_colab_link": true
    },
    "kernelspec": {
      "name": "python3",
      "display_name": "Python 3"
    },
    "language_info": {
      "name": "python"
    }
  },
  "cells": [
    {
      "cell_type": "markdown",
      "metadata": {
        "id": "view-in-github",
        "colab_type": "text"
      },
      "source": [
        "<a href=\"https://colab.research.google.com/github/khj1116/python-coding/blob/main/0704(%EC%B2%98%EC%9D%8C%EB%B6%80%ED%84%B0%EC%A0%95%EB%A6%AC)_ipynb%EC%9D%98.ipynb\" target=\"_parent\"><img src=\"https://colab.research.google.com/assets/colab-badge.svg\" alt=\"Open In Colab\"/></a>"
      ]
    },
    {
      "cell_type": "code",
      "execution_count": null,
      "metadata": {
        "colab": {
          "base_uri": "https://localhost:8080/"
        },
        "id": "wavBxqqHAsor",
        "outputId": "335482db-f576-413a-a1ee-ef198edf449d"
      },
      "outputs": [
        {
          "output_type": "stream",
          "name": "stdout",
          "text": [
            "hello\n"
          ]
        }
      ],
      "source": [
        "# 처음부터 총 정리(입력, 출력, 조건, 반복) -> 함수와 클래스 -> 모듈 -> 패키지\n",
        "#print부터\n",
        "print('hello')\n"
      ]
    },
    {
      "cell_type": "code",
      "source": [
        "print(\"hello\")"
      ],
      "metadata": {
        "colab": {
          "base_uri": "https://localhost:8080/"
        },
        "id": "gB6Gqy0FGAxW",
        "outputId": "fa57fab7-b50f-4305-9ca7-4b4d99322d44"
      },
      "execution_count": null,
      "outputs": [
        {
          "output_type": "stream",
          "name": "stdout",
          "text": [
            "hello\n"
          ]
        }
      ]
    },
    {
      "cell_type": "code",
      "source": [
        "print('hello \"안녕하세요\"')"
      ],
      "metadata": {
        "colab": {
          "base_uri": "https://localhost:8080/"
        },
        "id": "hLxjm0o_GGAU",
        "outputId": "2ee1d9a0-d0b7-41c3-b007-871fe36342e6"
      },
      "execution_count": null,
      "outputs": [
        {
          "output_type": "stream",
          "name": "stdout",
          "text": [
            "hello \"안녕하세요\"\n"
          ]
        }
      ]
    },
    {
      "cell_type": "code",
      "source": [
        "print(\"hello '안녕하세요'\")"
      ],
      "metadata": {
        "colab": {
          "base_uri": "https://localhost:8080/"
        },
        "id": "_nRLwGUxGQIm",
        "outputId": "ef9e1568-f7bb-4fb0-df2c-34f15af91a5f"
      },
      "execution_count": null,
      "outputs": [
        {
          "output_type": "stream",
          "name": "stdout",
          "text": [
            "hello '안녕하세요'\n"
          ]
        }
      ]
    },
    {
      "cell_type": "code",
      "source": [
        "print('안녕','하세요',\"반갑습니다\")"
      ],
      "metadata": {
        "colab": {
          "base_uri": "https://localhost:8080/"
        },
        "id": "aLc2psyhGXlM",
        "outputId": "b8c1635e-2abd-4b83-fad4-64a05e6131d2"
      },
      "execution_count": null,
      "outputs": [
        {
          "output_type": "stream",
          "name": "stdout",
          "text": [
            "안녕 하세요 반갑습니다\n"
          ]
        }
      ]
    },
    {
      "cell_type": "code",
      "source": [
        "print('안녕' + '하세요' + ' 반갑습니다')"
      ],
      "metadata": {
        "colab": {
          "base_uri": "https://localhost:8080/"
        },
        "id": "shleTjaxGkG0",
        "outputId": "40727bc6-9737-49dc-f6d6-011a6abbd3ff"
      },
      "execution_count": null,
      "outputs": [
        {
          "output_type": "stream",
          "name": "stdout",
          "text": [
            "안녕하세요 반갑습니다\n"
          ]
        }
      ]
    },
    {
      "cell_type": "code",
      "source": [
        "print(\"\"\"안녕하세요\n",
        "         오늘은 날씨가 좋네요\"\"\")"
      ],
      "metadata": {
        "colab": {
          "base_uri": "https://localhost:8080/"
        },
        "id": "PUb9v78DGvzV",
        "outputId": "93bed58b-5d4c-4079-9b12-af8061043e9e"
      },
      "execution_count": null,
      "outputs": [
        {
          "output_type": "stream",
          "name": "stdout",
          "text": [
            "안녕하세요\n",
            "         오늘은 날씨가 좋네요\n"
          ]
        }
      ]
    },
    {
      "cell_type": "code",
      "source": [
        "print('''안녕하세요\n",
        "오늘은 좋네요''')"
      ],
      "metadata": {
        "colab": {
          "base_uri": "https://localhost:8080/"
        },
        "id": "TG510zvzG7gm",
        "outputId": "48e73af7-b77a-45c4-801b-c17a88fafe59"
      },
      "execution_count": null,
      "outputs": [
        {
          "output_type": "stream",
          "name": "stdout",
          "text": [
            "안녕하세요\n",
            "오늘은 좋네요\n"
          ]
        }
      ]
    },
    {
      "cell_type": "code",
      "source": [
        "print(\"안녕하세요\"\\\n",
        "      '오늘은 날씨가 좋네요')"
      ],
      "metadata": {
        "colab": {
          "base_uri": "https://localhost:8080/"
        },
        "id": "0-VJZI66GtUl",
        "outputId": "725429fd-44b3-4f4a-aa7a-27e14f9b60a3"
      },
      "execution_count": null,
      "outputs": [
        {
          "output_type": "stream",
          "name": "stdout",
          "text": [
            "안녕하세요오늘은 날씨가 좋네요\n"
          ]
        }
      ]
    },
    {
      "cell_type": "code",
      "source": [
        "a = 123\n",
        "b = '안녕하세요'\n",
        "print('a값:{} b값:{}'.format(a, b))"
      ],
      "metadata": {
        "colab": {
          "base_uri": "https://localhost:8080/"
        },
        "id": "WWX4EmjJHWzh",
        "outputId": "3bea2fdf-c06e-457c-ca2e-0c4e679ec615"
      },
      "execution_count": null,
      "outputs": [
        {
          "output_type": "stream",
          "name": "stdout",
          "text": [
            "a값:123 b값:안녕하세요\n"
          ]
        }
      ]
    },
    {
      "cell_type": "code",
      "source": [
        "a = 123\n",
        "b = '안녕하세요'\n",
        "print(f'a값:{a} b값:{b}')"
      ],
      "metadata": {
        "colab": {
          "base_uri": "https://localhost:8080/"
        },
        "id": "DS6eBTMkIbEF",
        "outputId": "049eb196-6e7a-4599-e204-4e31a61fd2eb"
      },
      "execution_count": null,
      "outputs": [
        {
          "output_type": "stream",
          "name": "stdout",
          "text": [
            "a값:123 b값:안녕하세요\n"
          ]
        }
      ]
    },
    {
      "cell_type": "code",
      "source": [
        "a = float(input('첫번째 문자열 입력 : '))\n",
        "b = float(input('두번째 문자열 입력 : '))\n",
        "print(a/b)"
      ],
      "metadata": {
        "colab": {
          "base_uri": "https://localhost:8080/"
        },
        "id": "dpwEronjIiOw",
        "outputId": "195b2947-471b-4ec9-9bc7-5ca521e6f946"
      },
      "execution_count": null,
      "outputs": [
        {
          "output_type": "stream",
          "name": "stdout",
          "text": [
            "첫번째 문자열 입력 : 1\n",
            "두번째 문자열 입력 : 3\n",
            "0.3333333333333333\n"
          ]
        }
      ]
    },
    {
      "cell_type": "code",
      "source": [
        "a = input('첫번째 문자열 입력 : ')\n",
        "b = int(input('두번째 문자열 입력 : '))\n",
        "print(a+b)"
      ],
      "metadata": {
        "colab": {
          "base_uri": "https://localhost:8080/",
          "height": 211
        },
        "id": "RFB5u3KQJcfn",
        "outputId": "606eefc8-0350-431f-eec4-86d4b3fadff1"
      },
      "execution_count": null,
      "outputs": [
        {
          "name": "stdout",
          "output_type": "stream",
          "text": [
            "첫번째 문자열 입력 : 10\n",
            "두번째 문자열 입력 : 2\n"
          ]
        },
        {
          "output_type": "error",
          "ename": "TypeError",
          "evalue": "can only concatenate str (not \"int\") to str",
          "traceback": [
            "\u001b[0;31m---------------------------------------------------------------------------\u001b[0m",
            "\u001b[0;31mTypeError\u001b[0m                                 Traceback (most recent call last)",
            "\u001b[0;32m<ipython-input-26-4bed64e7982a>\u001b[0m in \u001b[0;36m<cell line: 3>\u001b[0;34m()\u001b[0m\n\u001b[1;32m      1\u001b[0m \u001b[0ma\u001b[0m \u001b[0;34m=\u001b[0m \u001b[0minput\u001b[0m\u001b[0;34m(\u001b[0m\u001b[0;34m'첫번째 문자열 입력 : '\u001b[0m\u001b[0;34m)\u001b[0m\u001b[0;34m\u001b[0m\u001b[0;34m\u001b[0m\u001b[0m\n\u001b[1;32m      2\u001b[0m \u001b[0mb\u001b[0m \u001b[0;34m=\u001b[0m \u001b[0mint\u001b[0m\u001b[0;34m(\u001b[0m\u001b[0minput\u001b[0m\u001b[0;34m(\u001b[0m\u001b[0;34m'두번째 문자열 입력 : '\u001b[0m\u001b[0;34m)\u001b[0m\u001b[0;34m)\u001b[0m\u001b[0;34m\u001b[0m\u001b[0;34m\u001b[0m\u001b[0m\n\u001b[0;32m----> 3\u001b[0;31m \u001b[0mprint\u001b[0m\u001b[0;34m(\u001b[0m\u001b[0ma\u001b[0m\u001b[0;34m+\u001b[0m\u001b[0mb\u001b[0m\u001b[0;34m)\u001b[0m\u001b[0;34m\u001b[0m\u001b[0;34m\u001b[0m\u001b[0m\n\u001b[0m",
            "\u001b[0;31mTypeError\u001b[0m: can only concatenate str (not \"int\") to str"
          ]
        }
      ]
    },
    {
      "cell_type": "code",
      "source": [
        "a = '10'\n",
        "b = 20\n",
        "print(int(a)+b)"
      ],
      "metadata": {
        "colab": {
          "base_uri": "https://localhost:8080/"
        },
        "id": "p-AZGLf6KDYb",
        "outputId": "3339ce9c-4c3d-4ab9-f282-aa382ad27570"
      },
      "execution_count": null,
      "outputs": [
        {
          "output_type": "stream",
          "name": "stdout",
          "text": [
            "30\n"
          ]
        }
      ]
    },
    {
      "cell_type": "code",
      "source": [
        "a = '10'\n",
        "b = 20\n",
        "print(a+str(b))"
      ],
      "metadata": {
        "colab": {
          "base_uri": "https://localhost:8080/"
        },
        "id": "aiI3krQqKR0B",
        "outputId": "37bf7e63-eaad-4f55-d7c0-c07ef8600849"
      },
      "execution_count": null,
      "outputs": [
        {
          "output_type": "stream",
          "name": "stdout",
          "text": [
            "1020\n"
          ]
        }
      ]
    },
    {
      "cell_type": "code",
      "source": [
        "ab = True\n",
        "bb = False\n",
        "ai = 1\n",
        "bi = 0\n",
        "type(bb)\n"
      ],
      "metadata": {
        "colab": {
          "base_uri": "https://localhost:8080/"
        },
        "id": "QPFbmbbXKaeN",
        "outputId": "9aa16fd6-6011-41c3-db8c-c9e78161c4d8"
      },
      "execution_count": null,
      "outputs": [
        {
          "output_type": "execute_result",
          "data": {
            "text/plain": [
              "bool"
            ]
          },
          "metadata": {},
          "execution_count": 31
        }
      ]
    },
    {
      "cell_type": "code",
      "source": [
        "a = 3\n",
        "b = 4\n",
        "print(a+b)\n",
        "print(a-b)\n",
        "print(a*b)\n",
        "print(a/b)\n",
        "print(a**b)\n",
        "print(a%b)\n",
        "print(b//a)\n"
      ],
      "metadata": {
        "colab": {
          "base_uri": "https://localhost:8080/"
        },
        "id": "Uu1_hnBJLGMP",
        "outputId": "a0d419a3-1d95-4450-863e-6b6083217d2f"
      },
      "execution_count": null,
      "outputs": [
        {
          "output_type": "stream",
          "name": "stdout",
          "text": [
            "7\n",
            "-1\n",
            "12\n",
            "0.75\n",
            "81\n",
            "3\n",
            "1\n"
          ]
        }
      ]
    },
    {
      "cell_type": "code",
      "source": [
        "head = 'Python'\n",
        "tail = 'is fun'\n",
        "print(head+tail)\n",
        "print(head*2)\n",
        "head = head + tail\n",
        "print(head)\n",
        "print(len(head))"
      ],
      "metadata": {
        "colab": {
          "base_uri": "https://localhost:8080/"
        },
        "id": "PTy0XQHsLf3o",
        "outputId": "18080ff4-a26d-4cec-c622-c50450d11931"
      },
      "execution_count": null,
      "outputs": [
        {
          "output_type": "stream",
          "name": "stdout",
          "text": [
            "Pythonis fun\n",
            "PythonPython\n",
            "Pythonis fun\n",
            "12\n"
          ]
        }
      ]
    },
    {
      "cell_type": "code",
      "source": [
        "a = 'Life is too short, You need Python'\n",
        "print(a[0])\n",
        "print(a[15:17])\n",
        "print(a[-6])\n",
        "print(a[:4])\n",
        "print(a[-6:])"
      ],
      "metadata": {
        "colab": {
          "base_uri": "https://localhost:8080/"
        },
        "id": "OhE51PuRL1ph",
        "outputId": "0c4a237e-724c-4f12-c602-c38466e86f04"
      },
      "execution_count": null,
      "outputs": [
        {
          "output_type": "stream",
          "name": "stdout",
          "text": [
            "L\n",
            "rt\n",
            "P\n",
            "Life\n",
            "Python\n"
          ]
        }
      ]
    },
    {
      "cell_type": "code",
      "source": [
        "print('I eat %d apples.' % 3)\n",
        "print('I eat %s apples' % 'five')\n",
        "num = 3\n",
        "print('I eat %d apples.' % num)\n",
        "\n",
        "num = 10\n",
        "day = 'three'\n",
        "print('I eat %d apples. I was sick for %s '% (num, day))"
      ],
      "metadata": {
        "colab": {
          "base_uri": "https://localhost:8080/"
        },
        "id": "HxXBF5hELM2s",
        "outputId": "8096f681-8d29-4596-d28e-0f301f12da1f"
      },
      "execution_count": null,
      "outputs": [
        {
          "output_type": "stream",
          "name": "stdout",
          "text": [
            "I eat 3 apples.\n",
            "I eat five apples\n",
            "I eat 3 apples.\n",
            "I eat 10 apples. I was sick for three \n"
          ]
        }
      ]
    },
    {
      "cell_type": "code",
      "source": [
        "print('%0.4f' % 3.1415926535)\n",
        "print('%10.4f' % 3.1415926535)"
      ],
      "metadata": {
        "colab": {
          "base_uri": "https://localhost:8080/"
        },
        "id": "rPmjiZw1RKkM",
        "outputId": "68e428cf-dbad-46ec-83f1-87918eb5b9cb"
      },
      "execution_count": null,
      "outputs": [
        {
          "output_type": "stream",
          "name": "stdout",
          "text": [
            "3.1416\n",
            "    3.1416\n"
          ]
        }
      ]
    },
    {
      "cell_type": "code",
      "source": [
        "print('%10s' % 'hi')\n",
        "print('%-10s  jain' % 'hi')"
      ],
      "metadata": {
        "colab": {
          "base_uri": "https://localhost:8080/"
        },
        "id": "ev55qwj1SNwS",
        "outputId": "d16feeb1-bee8-431c-a258-a236a5c2ec72"
      },
      "execution_count": null,
      "outputs": [
        {
          "output_type": "stream",
          "name": "stdout",
          "text": [
            "        hi\n",
            "hi          jain\n"
          ]
        }
      ]
    },
    {
      "cell_type": "code",
      "source": [
        "print('I eat {} apple'.format(3))\n",
        "print('I eat %d apples'%3)\n",
        "num = 3\n",
        "day = 'three'\n",
        "print('I eat {0} apples. so I was sick for {1} days'.format(num,day))\n",
        "print('I eat {1} apples. so I was sick for {0} days'.format(num,day))"
      ],
      "metadata": {
        "colab": {
          "base_uri": "https://localhost:8080/"
        },
        "id": "xszXW6P2Sdef",
        "outputId": "a424d883-c6de-4514-c08a-c711154a0add"
      },
      "execution_count": null,
      "outputs": [
        {
          "output_type": "stream",
          "name": "stdout",
          "text": [
            "I eat 3 apple\n",
            "I eat 3 apples\n",
            "I eat 3 apples. so I was sick for three days\n",
            "I eat three apples. so I was sick for 3 days\n"
          ]
        }
      ]
    },
    {
      "cell_type": "code",
      "source": [
        "name = '홍길동'\n",
        "age = 30\n",
        "print(f'나의 이름은 {name}입니다. 나이는 {age}세 입니다.')\n",
        "\n",
        "d = {'name' : '홍길동', 'age' : 30}\n",
        "print(f'나의이름은 {d[\"name\"]}입니다. 나이는 {d[\"age\"]}세 입니다.')"
      ],
      "metadata": {
        "colab": {
          "base_uri": "https://localhost:8080/"
        },
        "id": "Pb5CLcj7K4Gr",
        "outputId": "229eb79e-b69d-4e36-aea6-0293f94cdfe8"
      },
      "execution_count": null,
      "outputs": [
        {
          "output_type": "stream",
          "name": "stdout",
          "text": [
            "나의 이름은 홍길동입니다. 나이는 30세 입니다.\n",
            "나의이름은 홍길동입니다. 나이는 30세 입니다.\n"
          ]
        }
      ]
    },
    {
      "cell_type": "code",
      "source": [
        "print(f'{\"hi\" :*<10}')\n",
        "print(f'{\"hi\":=>10}')\n",
        "print(f'{\"hi\":^10}')\n",
        "print(f'{{and}}')\n",
        "print(f'{\"hi\":=^10}')\n",
        "print(f'{\"hi\":*^10}')"
      ],
      "metadata": {
        "colab": {
          "base_uri": "https://localhost:8080/"
        },
        "id": "IPX-K3i6Ky4O",
        "outputId": "7e4c8c34-6caa-46f5-ecf6-c2a665318469"
      },
      "execution_count": null,
      "outputs": [
        {
          "output_type": "stream",
          "name": "stdout",
          "text": [
            "hi********\n",
            "========hi\n",
            "    hi    \n",
            "{and}\n",
            "====hi====\n",
            "****hi****\n"
          ]
        }
      ]
    },
    {
      "cell_type": "code",
      "source": [
        "a = 'hobby'\n",
        "#print(len(a))\n",
        "#print(a.count('b'))\n",
        "#print(','.join(\"abcd\"))\n",
        "#print(','.join(a))\n",
        "a = 'Python is the best choice'\n",
        "print(a.find('b'))\n",
        "print(a.find('k')) #값의 존재 유무를 알고 싶을 때\n",
        "print(a.index('b')) #위치값을 알고 싶을 때\n",
        "print(a.index('k'))\n"
      ],
      "metadata": {
        "colab": {
          "base_uri": "https://localhost:8080/",
          "height": 228
        },
        "id": "AfIUkxSHJ1nj",
        "outputId": "2b41d28c-3e5b-44b9-c492-29f282952fd4"
      },
      "execution_count": null,
      "outputs": [
        {
          "output_type": "stream",
          "name": "stdout",
          "text": [
            "14\n",
            "-1\n",
            "14\n"
          ]
        },
        {
          "output_type": "error",
          "ename": "ValueError",
          "evalue": "substring not found",
          "traceback": [
            "\u001b[0;31m---------------------------------------------------------------------------\u001b[0m",
            "\u001b[0;31mValueError\u001b[0m                                Traceback (most recent call last)",
            "\u001b[0;32m<ipython-input-85-f8b9cc73fd0a>\u001b[0m in \u001b[0;36m<cell line: 10>\u001b[0;34m()\u001b[0m\n\u001b[1;32m      8\u001b[0m \u001b[0mprint\u001b[0m\u001b[0;34m(\u001b[0m\u001b[0ma\u001b[0m\u001b[0;34m.\u001b[0m\u001b[0mfind\u001b[0m\u001b[0;34m(\u001b[0m\u001b[0;34m'k'\u001b[0m\u001b[0;34m)\u001b[0m\u001b[0;34m)\u001b[0m \u001b[0;31m#값의 존재 유무를 알고 싶을 때\u001b[0m\u001b[0;34m\u001b[0m\u001b[0;34m\u001b[0m\u001b[0m\n\u001b[1;32m      9\u001b[0m \u001b[0mprint\u001b[0m\u001b[0;34m(\u001b[0m\u001b[0ma\u001b[0m\u001b[0;34m.\u001b[0m\u001b[0mindex\u001b[0m\u001b[0;34m(\u001b[0m\u001b[0;34m'b'\u001b[0m\u001b[0;34m)\u001b[0m\u001b[0;34m)\u001b[0m \u001b[0;31m#위치값을 알고 싶을 때\u001b[0m\u001b[0;34m\u001b[0m\u001b[0;34m\u001b[0m\u001b[0m\n\u001b[0;32m---> 10\u001b[0;31m \u001b[0mprint\u001b[0m\u001b[0;34m(\u001b[0m\u001b[0ma\u001b[0m\u001b[0;34m.\u001b[0m\u001b[0mindex\u001b[0m\u001b[0;34m(\u001b[0m\u001b[0;34m'k'\u001b[0m\u001b[0;34m)\u001b[0m\u001b[0;34m)\u001b[0m\u001b[0;34m\u001b[0m\u001b[0;34m\u001b[0m\u001b[0m\n\u001b[0m",
            "\u001b[0;31mValueError\u001b[0m: substring not found"
          ]
        }
      ]
    },
    {
      "cell_type": "code",
      "source": [
        "a = 'hi'\n",
        "print(a.upper())\n",
        "a='Hi'\n",
        "print(a.lower())\n",
        "\n",
        "a= '   hi   '\n",
        "print(a.lstrip())   #왼쪽 정렬\n",
        "print(a.rstrip())  #오른쪽 정렬\n",
        "print(a.strip()) #공백 제거\n",
        "\n",
        "a = 'Life is too short'\n",
        "print(a.replace('Life', 'Your leg'))\n",
        "print(a.split())\n",
        "a = 'Life:is:too:short'\n",
        "print(a.split(':'))"
      ],
      "metadata": {
        "colab": {
          "base_uri": "https://localhost:8080/"
        },
        "id": "lbCn8WGpJYcw",
        "outputId": "fd52a4bf-3f76-4d28-b155-a0cc0f7bac63"
      },
      "execution_count": null,
      "outputs": [
        {
          "output_type": "stream",
          "name": "stdout",
          "text": [
            "HI\n",
            "hi\n",
            "hi   \n",
            "   hi\n",
            "hi\n",
            "Your leg is too short\n",
            "['Life', 'is', 'too', 'short']\n",
            "['Life', 'is', 'too', 'short']\n"
          ]
        }
      ]
    },
    {
      "cell_type": "code",
      "source": [
        "a = []\n",
        "a = [1,2,3] #요소, 인덱스(위치값)\n",
        "a = ['life', 'is']\n",
        "a = [1,True,'life']"
      ],
      "metadata": {
        "id": "Ub2P503hJV4_"
      },
      "execution_count": null,
      "outputs": []
    },
    {
      "cell_type": "code",
      "source": [
        "a = [1,2,3,4,5]\n",
        "print(a)\n",
        "print(a[0])\n",
        "print(a[0]+a[4])\n",
        "print(a[-3])"
      ],
      "metadata": {
        "colab": {
          "base_uri": "https://localhost:8080/"
        },
        "id": "Y2BZ4mA_JK36",
        "outputId": "c2299a81-c826-4931-b285-57860cf9eb8f"
      },
      "execution_count": null,
      "outputs": [
        {
          "output_type": "stream",
          "name": "stdout",
          "text": [
            "[1, 2, 3, 4, 5]\n",
            "1\n",
            "6\n",
            "3\n"
          ]
        }
      ]
    },
    {
      "cell_type": "code",
      "source": [
        "a = [1,2,3,['a','b','c']]\n",
        "print(a[0])\n",
        "print(a[3])\n",
        "print(a[3][1])\n",
        "print(a[-1][0])"
      ],
      "metadata": {
        "colab": {
          "base_uri": "https://localhost:8080/"
        },
        "id": "kHHd-9oCJASR",
        "outputId": "157d67b5-7a96-4eb2-d0e0-dc0e43dbdcba"
      },
      "execution_count": null,
      "outputs": [
        {
          "output_type": "stream",
          "name": "stdout",
          "text": [
            "1\n",
            "['a', 'b', 'c']\n",
            "b\n",
            "a\n"
          ]
        }
      ]
    },
    {
      "cell_type": "code",
      "source": [
        "a = [1,2,3,['a','b','c'],['f','g','h']]\n",
        "#문제 f ,f, g, h, a ,h  출력\n",
        "print(a[-1][0])\n",
        "print(a[-1])\n",
        "print(a[3][0], a[-1][2])\n",
        "print(a[2:])\n"
      ],
      "metadata": {
        "colab": {
          "base_uri": "https://localhost:8080/"
        },
        "id": "0x0rFBa6IWqV",
        "outputId": "20fee1f1-e789-4907-fe22-745246cce33c"
      },
      "execution_count": null,
      "outputs": [
        {
          "output_type": "stream",
          "name": "stdout",
          "text": [
            "f\n",
            "['f', 'g', 'h']\n",
            "a h\n",
            "[3, ['a', 'b', 'c'], ['f', 'g', 'h']]\n"
          ]
        }
      ]
    },
    {
      "cell_type": "code",
      "source": [
        "a = [1,2,3]\n",
        "b = [4,5,6]\n",
        "print(len(a))\n",
        "print(a+b)\n",
        "print(len(a*3))\n",
        "del(b[1])\n",
        "print(b)\n"
      ],
      "metadata": {
        "colab": {
          "base_uri": "https://localhost:8080/"
        },
        "id": "lf12CAdBIUXZ",
        "outputId": "78245784-e6cc-439a-9d44-a41d8a31e294"
      },
      "execution_count": null,
      "outputs": [
        {
          "output_type": "stream",
          "name": "stdout",
          "text": [
            "3\n",
            "[1, 2, 3, 4, 5, 6]\n",
            "9\n",
            "[4, 6]\n"
          ]
        }
      ]
    },
    {
      "cell_type": "code",
      "source": [
        "a = [1,2,3]\n",
        "b = [4,6]\n",
        "\n",
        "b.append(5)\n",
        "del b[2:]\n",
        "b.append(8)\n",
        "b.append(5)\n",
        "b.sort() #오름차순 정렬\n",
        "b.reverse() #내림차순 정렬\n",
        "print(b)\n",
        "b.insert(0,10)\n",
        "b.insert(1,7) #(index, value)\n",
        "print(b)\n"
      ],
      "metadata": {
        "colab": {
          "base_uri": "https://localhost:8080/"
        },
        "id": "D-G_tWgtIL_Y",
        "outputId": "de8a5fce-ff20-4b1b-ef71-1782ed802e0f"
      },
      "execution_count": null,
      "outputs": [
        {
          "output_type": "stream",
          "name": "stdout",
          "text": [
            "[8, 6, 5, 4]\n",
            "[10, 7, 8, 6, 5, 4]\n"
          ]
        }
      ]
    },
    {
      "cell_type": "code",
      "source": [
        "a = [1,2,3]\n",
        "a.insert(0,4)\n",
        "a.insert(3,5)\n",
        "print(a)\n",
        "\n",
        "b = [1,2,3,1,2,3]\n",
        "b.remove(3)\n",
        "print(b)\n",
        "c = [6,7]\n",
        "b.extend(c) #맨 뒤에 추가\n",
        "print(b)"
      ],
      "metadata": {
        "colab": {
          "base_uri": "https://localhost:8080/"
        },
        "id": "j200C0A2obJf",
        "outputId": "922e6c8e-cea1-46cf-a0b0-9dad85df6ee8"
      },
      "execution_count": null,
      "outputs": [
        {
          "output_type": "stream",
          "name": "stdout",
          "text": [
            "[4, 1, 2, 5, 3]\n",
            "[1, 2, 1, 2, 3]\n",
            "[1, 2, 1, 2, 3, 6, 7]\n"
          ]
        }
      ]
    },
    {
      "cell_type": "code",
      "source": [
        "t1 = (1,)\n",
        "type(t1)\n",
        "t2 = (1,2,3)\n",
        "t3 = 1,2,3\n",
        "t4 = ('a', 'b', ('ab', 'cd'))\n",
        "print(t1+t2)\n",
        "print(len(t4))\n",
        "print(t2[0])\n",
        "t2[0] = 5 #튜플의 특징(변경불가)"
      ],
      "metadata": {
        "colab": {
          "base_uri": "https://localhost:8080/",
          "height": 228
        },
        "id": "OP61_LaEsfph",
        "outputId": "94829828-6587-41f5-948d-fa458ee29c3a"
      },
      "execution_count": null,
      "outputs": [
        {
          "output_type": "stream",
          "name": "stdout",
          "text": [
            "(1, 1, 2, 3)\n",
            "3\n",
            "1\n"
          ]
        },
        {
          "output_type": "error",
          "ename": "TypeError",
          "evalue": "'tuple' object does not support item assignment",
          "traceback": [
            "\u001b[0;31m---------------------------------------------------------------------------\u001b[0m",
            "\u001b[0;31mTypeError\u001b[0m                                 Traceback (most recent call last)",
            "\u001b[0;32m<ipython-input-144-7376adbc7280>\u001b[0m in \u001b[0;36m<cell line: 9>\u001b[0;34m()\u001b[0m\n\u001b[1;32m      7\u001b[0m \u001b[0mprint\u001b[0m\u001b[0;34m(\u001b[0m\u001b[0mlen\u001b[0m\u001b[0;34m(\u001b[0m\u001b[0mt4\u001b[0m\u001b[0;34m)\u001b[0m\u001b[0;34m)\u001b[0m\u001b[0;34m\u001b[0m\u001b[0;34m\u001b[0m\u001b[0m\n\u001b[1;32m      8\u001b[0m \u001b[0mprint\u001b[0m\u001b[0;34m(\u001b[0m\u001b[0mt2\u001b[0m\u001b[0;34m[\u001b[0m\u001b[0;36m0\u001b[0m\u001b[0;34m]\u001b[0m\u001b[0;34m)\u001b[0m\u001b[0;34m\u001b[0m\u001b[0;34m\u001b[0m\u001b[0m\n\u001b[0;32m----> 9\u001b[0;31m \u001b[0mt2\u001b[0m\u001b[0;34m[\u001b[0m\u001b[0;36m0\u001b[0m\u001b[0;34m]\u001b[0m \u001b[0;34m=\u001b[0m \u001b[0;36m5\u001b[0m \u001b[0;31m#튜플의 특징(변경불가)\u001b[0m\u001b[0;34m\u001b[0m\u001b[0;34m\u001b[0m\u001b[0m\n\u001b[0m",
            "\u001b[0;31mTypeError\u001b[0m: 'tuple' object does not support item assignment"
          ]
        }
      ]
    },
    {
      "cell_type": "code",
      "source": [
        "a_dic = {'a':1,'b':2, 'c':'3', 'd': 3}\n",
        "print(a_dic)\n",
        "print(a_dic['a'])\n",
        "print(type(a_dic['c']))\n",
        "print(type(a_dic['c']))\n",
        "print(type(a_dic['d']))"
      ],
      "metadata": {
        "colab": {
          "base_uri": "https://localhost:8080/"
        },
        "id": "enyOy03ntnjb",
        "outputId": "afb2ccc2-0a79-439e-e201-a2cc4680a4cd"
      },
      "execution_count": null,
      "outputs": [
        {
          "output_type": "stream",
          "name": "stdout",
          "text": [
            "{'a': 1, 'b': 2, 'c': '3', 'd': 3}\n",
            "1\n",
            "<class 'str'>\n",
            "<class 'str'>\n",
            "<class 'int'>\n"
          ]
        }
      ]
    },
    {
      "cell_type": "code",
      "source": [
        "a_dic['d'] = 10\n",
        "print(a_dic)"
      ],
      "metadata": {
        "colab": {
          "base_uri": "https://localhost:8080/"
        },
        "id": "WD53FCTVuvUO",
        "outputId": "bebd034f-96e4-4d8f-dfdd-7c9b8695fcf2"
      },
      "execution_count": null,
      "outputs": [
        {
          "output_type": "stream",
          "name": "stdout",
          "text": [
            "{'a': 1, 'b': 2, 'c': '3', 'd': 10}\n"
          ]
        }
      ]
    },
    {
      "cell_type": "code",
      "source": [
        "a_set = set([1,2,3,4])\n",
        "print(a_set)"
      ],
      "metadata": {
        "colab": {
          "base_uri": "https://localhost:8080/"
        },
        "id": "VS4-r_PBvG6u",
        "outputId": "70ed51e8-d34e-4417-bd42-78d13520e8b1"
      },
      "execution_count": null,
      "outputs": [
        {
          "output_type": "stream",
          "name": "stdout",
          "text": [
            "{1, 2, 3, 4}\n"
          ]
        }
      ]
    },
    {
      "cell_type": "code",
      "source": [
        "b_set = set([1,2,3,3,4,4,6,7,23,84,231,1886,12861,44]) #중복 삭제\n",
        "print(b_set)"
      ],
      "metadata": {
        "colab": {
          "base_uri": "https://localhost:8080/"
        },
        "id": "SrJWAJq5vKfS",
        "outputId": "29ebd232-f146-4bc7-f464-4779f9af26a6"
      },
      "execution_count": null,
      "outputs": [
        {
          "output_type": "stream",
          "name": "stdout",
          "text": [
            "{1, 2, 3, 4, 6, 7, 231, 44, 84, 23, 12861, 1886}\n"
          ]
        }
      ]
    },
    {
      "cell_type": "code",
      "source": [
        "a_list = ['안녕', 1,2,'파이썬']\n",
        "if '안녕' not in a_list:  #true(안녕이 없어야)\n",
        "  print(\"없음\")\n",
        "else :\n",
        "  print(\"있음\")\n",
        "if 5 in a_list:\n",
        "  print(\"있음\")\n",
        "else :\n",
        "  print(\"없음\")"
      ],
      "metadata": {
        "colab": {
          "base_uri": "https://localhost:8080/"
        },
        "id": "ldc4Rr0zv-iQ",
        "outputId": "bb6aa099-4f9b-4683-c0b2-3144570d6167"
      },
      "execution_count": null,
      "outputs": [
        {
          "output_type": "stream",
          "name": "stdout",
          "text": [
            "있음\n",
            "없음\n"
          ]
        }
      ]
    },
    {
      "cell_type": "code",
      "source": [
        "for i in range(1,10,3):   #range(시작값,끝값보다 하나 작은 값,증감값) :\n",
        "  print(i, end = ' ')"
      ],
      "metadata": {
        "colab": {
          "base_uri": "https://localhost:8080/"
        },
        "id": "ozdFkOcnyEQ1",
        "outputId": "4ef6835d-744c-4f3b-fee5-dc5adbec0ead"
      },
      "execution_count": null,
      "outputs": [
        {
          "output_type": "stream",
          "name": "stdout",
          "text": [
            "1 4 7 "
          ]
        }
      ]
    },
    {
      "cell_type": "code",
      "source": [
        "for i in range(10,1, -3):\n",
        "  print(i, end = ' ')"
      ],
      "metadata": {
        "colab": {
          "base_uri": "https://localhost:8080/"
        },
        "id": "rVpHX45ay9s0",
        "outputId": "e2c40238-d3ce-40b7-e3ae-61af4a9484ad"
      },
      "execution_count": null,
      "outputs": [
        {
          "output_type": "stream",
          "name": "stdout",
          "text": [
            "10 7 4 "
          ]
        }
      ]
    },
    {
      "cell_type": "code",
      "source": [
        "a_str = 'hello python'\n",
        "for i in a_str:\n",
        "  print(i)\n"
      ],
      "metadata": {
        "colab": {
          "base_uri": "https://localhost:8080/"
        },
        "id": "7ZlR4WYZzVP6",
        "outputId": "603d2f60-5498-43bb-f3ed-b51817f9d10a"
      },
      "execution_count": null,
      "outputs": [
        {
          "output_type": "stream",
          "name": "stdout",
          "text": [
            "h\n",
            "e\n",
            "l\n",
            "l\n",
            "o\n",
            " \n",
            "p\n",
            "y\n",
            "t\n",
            "h\n",
            "o\n",
            "n\n"
          ]
        }
      ]
    },
    {
      "cell_type": "code",
      "source": [
        "name = ['홍길동', '장다인', '김철수']\n",
        "age = [10, 20, 30]\n",
        "\n",
        "#for i in name:           #i = name[0], i = name[1], i = name[2]\n",
        "#  print(name[i])\n",
        "\n",
        "for i in range(len(name)):\n",
        "  print(name[i])"
      ],
      "metadata": {
        "colab": {
          "base_uri": "https://localhost:8080/"
        },
        "id": "Kj4q68Lfz56j",
        "outputId": "a792ac89-b8a2-4a5d-d909-58dcd23ab3aa"
      },
      "execution_count": null,
      "outputs": [
        {
          "output_type": "stream",
          "name": "stdout",
          "text": [
            "홍길동\n",
            "장다인\n",
            "김철수\n"
          ]
        }
      ]
    },
    {
      "cell_type": "code",
      "source": [
        "for i in range(7):\n",
        "  print(i)"
      ],
      "metadata": {
        "id": "Sy_VZam1KPxF",
        "colab": {
          "base_uri": "https://localhost:8080/"
        },
        "outputId": "97aebcb3-24e5-4844-fb4f-0980a8777ec7"
      },
      "execution_count": 3,
      "outputs": [
        {
          "output_type": "stream",
          "name": "stdout",
          "text": [
            "0\n",
            "1\n",
            "2\n",
            "3\n",
            "4\n",
            "5\n",
            "6\n"
          ]
        }
      ]
    },
    {
      "cell_type": "code",
      "source": [
        "for i in range(5,10):\n",
        "  print(i)"
      ],
      "metadata": {
        "colab": {
          "base_uri": "https://localhost:8080/"
        },
        "id": "ZFBM6HqNoCOp",
        "outputId": "911544d2-8790-4d59-f361-6b2db24dabce"
      },
      "execution_count": 5,
      "outputs": [
        {
          "output_type": "stream",
          "name": "stdout",
          "text": [
            "5\n",
            "6\n",
            "7\n",
            "8\n",
            "9\n"
          ]
        }
      ]
    },
    {
      "cell_type": "code",
      "source": [
        "for i in range(10,5,-1):\n",
        "  print(i)"
      ],
      "metadata": {
        "colab": {
          "base_uri": "https://localhost:8080/"
        },
        "id": "6IL2TX6voIt6",
        "outputId": "bdbfe7b8-4b5c-4834-8b1c-f7103ae72a86"
      },
      "execution_count": 13,
      "outputs": [
        {
          "output_type": "stream",
          "name": "stdout",
          "text": [
            "10\n",
            "9\n",
            "8\n",
            "7\n",
            "6\n"
          ]
        }
      ]
    },
    {
      "cell_type": "code",
      "source": [
        "a_list = [1,2,3,4,5,\"안녕\",\"하세요\"]\n",
        "for i in a_list:\n",
        "  print(i)"
      ],
      "metadata": {
        "colab": {
          "base_uri": "https://localhost:8080/"
        },
        "id": "vYnZlM59ody6",
        "outputId": "66947cdf-4e22-4b76-f23b-88f731e35e88"
      },
      "execution_count": 15,
      "outputs": [
        {
          "output_type": "stream",
          "name": "stdout",
          "text": [
            "1\n",
            "2\n",
            "3\n",
            "4\n",
            "5\n",
            "안녕\n",
            "하세요\n"
          ]
        }
      ]
    },
    {
      "cell_type": "code",
      "source": [
        "a_str = \"hello python\"\n",
        "for i in a_str:\n",
        "  print(i)"
      ],
      "metadata": {
        "colab": {
          "base_uri": "https://localhost:8080/"
        },
        "id": "ZydfDpM_o2aF",
        "outputId": "faf98eb8-0b03-4bf9-9f23-a710da981485"
      },
      "execution_count": 17,
      "outputs": [
        {
          "output_type": "stream",
          "name": "stdout",
          "text": [
            "h\n",
            "e\n",
            "l\n",
            "l\n",
            "o\n",
            " \n",
            "p\n",
            "y\n",
            "t\n",
            "h\n",
            "o\n",
            "n\n"
          ]
        }
      ]
    },
    {
      "cell_type": "code",
      "source": [
        "name_list = [\"홍길동\",\"신짱구\",\"김철수\"]\n",
        "age_list = [500,5,12]\n",
        "\n",
        "for i,j in enumerate(name_list):\n",
        "  print(j,end = ' ')\n",
        "  print(age_list[i])\n",
        "\n",
        "\n",
        "for i, k in enumerate(name_list):\n",
        "  print(name_list[i], end = '  ')\n",
        "  print(age_list[i])\n",
        "\n",
        "\n"
      ],
      "metadata": {
        "colab": {
          "base_uri": "https://localhost:8080/"
        },
        "id": "0RjyHT6vo9sB",
        "outputId": "7c36748c-fc8a-4b63-a490-c77f25ade287"
      },
      "execution_count": 31,
      "outputs": [
        {
          "output_type": "stream",
          "name": "stdout",
          "text": [
            "홍길동 500\n",
            "신짱구 5\n",
            "김철수 12\n",
            "홍길동  500\n",
            "신짱구  5\n",
            "김철수  12\n"
          ]
        }
      ]
    },
    {
      "cell_type": "code",
      "source": [
        "name_list = [\"홍길동\",\"신짱구\",\"김철수\"]\n",
        "age_list = [500,5,12]\n",
        "for i in range(len(name_list)):\n",
        "    print(name_list[i],end = ' ')\n",
        "    print(age_list[i])"
      ],
      "metadata": {
        "colab": {
          "base_uri": "https://localhost:8080/"
        },
        "id": "LrtO-4rit-V0",
        "outputId": "691579a9-3b80-43f4-ab93-ce250acd78e5"
      },
      "execution_count": 34,
      "outputs": [
        {
          "output_type": "stream",
          "name": "stdout",
          "text": [
            "홍길동 500\n",
            "신짱구 5\n",
            "김철수 12\n"
          ]
        }
      ]
    },
    {
      "cell_type": "code",
      "source": [
        "test_list = [i for i in range(10)]\n",
        "print(test_list)\n",
        "test2_list = []\n",
        "for i in range(10):\n",
        "  test2_list.append(i)\n",
        "print(test2_list)"
      ],
      "metadata": {
        "colab": {
          "base_uri": "https://localhost:8080/"
        },
        "id": "YZxNpEHcug7B",
        "outputId": "6b961432-e6f7-40bc-a895-e49c90d44ef7"
      },
      "execution_count": 37,
      "outputs": [
        {
          "output_type": "stream",
          "name": "stdout",
          "text": [
            "[0, 1, 2, 3, 4, 5, 6, 7, 8, 9]\n",
            "[0, 1, 2, 3, 4, 5, 6, 7, 8, 9]\n"
          ]
        }
      ]
    },
    {
      "cell_type": "code",
      "source": [
        "test_list = [i * 5 for i in range(10)]\n",
        "print(test_list)\n",
        "test2_list = [0 for i in range(10)]\n",
        "print(test2_list)"
      ],
      "metadata": {
        "colab": {
          "base_uri": "https://localhost:8080/"
        },
        "id": "cnv3jH88u7OF",
        "outputId": "4718166a-46e0-403c-ade7-9c7c20a73b15"
      },
      "execution_count": 39,
      "outputs": [
        {
          "output_type": "stream",
          "name": "stdout",
          "text": [
            "[0, 5, 10, 15, 20, 25, 30, 35, 40, 45]\n",
            "[0, 0, 0, 0, 0, 0, 0, 0, 0, 0]\n"
          ]
        }
      ]
    },
    {
      "cell_type": "code",
      "source": [
        "a = [1,2,3,4]\n",
        "result = []\n",
        "#방법 1\n",
        "for i in a:\n",
        "  result.append(i*3)\n",
        "print(result)\n",
        "\n",
        "#방법2\n",
        "result = [n * 3 for n in a]\n",
        "print(result)\n",
        "\n",
        "#짝수만 3 곱하기\n",
        "result = [num*3 for num in a if num % 2 == 0]\n",
        "print(result)\n",
        "\n",
        "#짝수만 3 곱하기"
      ],
      "metadata": {
        "colab": {
          "base_uri": "https://localhost:8080/"
        },
        "id": "iV-ZyEYKvWbH",
        "outputId": "60a90440-0ee3-4fcf-9662-d9ac97e5a231"
      },
      "execution_count": 49,
      "outputs": [
        {
          "output_type": "stream",
          "name": "stdout",
          "text": [
            "[3, 6, 9, 12]\n",
            "[3, 6, 9, 12]\n",
            "[6, 12]\n"
          ]
        }
      ]
    },
    {
      "cell_type": "code",
      "source": [
        "#실습문제\n",
        "marks = [90,25,87,60,77]\n",
        "number = 0\n",
        "for mark in marks:\n",
        "    number += 1\n",
        "    if mark >= 60:\n",
        "      print(\"%d번 학생은 합격\" %number)\n",
        "    else:\n",
        "      print(\"%d번 학생은 불합격\" %number)\n"
      ],
      "metadata": {
        "colab": {
          "base_uri": "https://localhost:8080/"
        },
        "id": "arduG3TYyF_C",
        "outputId": "a5e4823d-14c1-421f-9173-894a74535851"
      },
      "execution_count": 57,
      "outputs": [
        {
          "output_type": "stream",
          "name": "stdout",
          "text": [
            "1번 학생은 합격\n",
            "2번 학생은 불합격\n",
            "3번 학생은 합격\n",
            "4번 학생은 합격\n",
            "5번 학생은 합격\n"
          ]
        }
      ]
    },
    {
      "cell_type": "code",
      "source": [
        "marks = [90,25,87,60,77]\n",
        "number = 0\n",
        "for mark in marks:\n",
        "    number += 1\n",
        "    if mark < 60:\n",
        "        continue\n",
        "    print(\"%d번 학생 축하합니다.\" %number)"
      ],
      "metadata": {
        "colab": {
          "base_uri": "https://localhost:8080/"
        },
        "id": "7WkdrmI83uKm",
        "outputId": "e034991c-d24b-4fe8-f68e-0ba84e333b74"
      },
      "execution_count": 59,
      "outputs": [
        {
          "output_type": "stream",
          "name": "stdout",
          "text": [
            "1번 학생 축하합니다.\n",
            "3번 학생 축하합니다.\n",
            "4번 학생 축하합니다.\n",
            "5번 학생 축하합니다.\n"
          ]
        }
      ]
    },
    {
      "cell_type": "code",
      "source": [
        "#구구단\n",
        "for i in range(2,10):\n",
        "    for j in range(1,10):\n",
        "        print(i*j, end = ' ')\n",
        "    print()\n"
      ],
      "metadata": {
        "colab": {
          "base_uri": "https://localhost:8080/"
        },
        "id": "XPOTEZ3n4VMT",
        "outputId": "74493dac-552c-4ebf-f003-7be3d4189f91"
      },
      "execution_count": 69,
      "outputs": [
        {
          "output_type": "stream",
          "name": "stdout",
          "text": [
            "2 4 6 8 10 12 14 16 18 \n",
            "3 6 9 12 15 18 21 24 27 \n",
            "4 8 12 16 20 24 28 32 36 \n",
            "5 10 15 20 25 30 35 40 45 \n",
            "6 12 18 24 30 36 42 48 54 \n",
            "7 14 21 28 35 42 49 56 63 \n",
            "8 16 24 32 40 48 56 64 72 \n",
            "9 18 27 36 45 54 63 72 81 \n"
          ]
        }
      ]
    },
    {
      "cell_type": "code",
      "source": [
        "result = [x*y for x in range(2,10)\n",
        "              for y in range(1,10)]\n",
        "print(result)"
      ],
      "metadata": {
        "colab": {
          "base_uri": "https://localhost:8080/"
        },
        "id": "WMYm2-V05iJt",
        "outputId": "13d640bd-352b-4c60-d52c-36eb24afce2b"
      },
      "execution_count": 2,
      "outputs": [
        {
          "output_type": "stream",
          "name": "stdout",
          "text": [
            "[2, 4, 6, 8, 10, 12, 14, 16, 18, 3, 6, 9, 12, 15, 18, 21, 24, 27, 4, 8, 12, 16, 20, 24, 28, 32, 36, 5, 10, 15, 20, 25, 30, 35, 40, 45, 6, 12, 18, 24, 30, 36, 42, 48, 54, 7, 14, 21, 28, 35, 42, 49, 56, 63, 8, 16, 24, 32, 40, 48, 56, 64, 72, 9, 18, 27, 36, 45, 54, 63, 72, 81]\n"
          ]
        }
      ]
    },
    {
      "cell_type": "code",
      "source": [
        "a = 0\n",
        "while a < 5:\n",
        "  print(a)\n",
        "  a += 1"
      ],
      "metadata": {
        "colab": {
          "base_uri": "https://localhost:8080/"
        },
        "id": "6nK5jlOEYtTR",
        "outputId": "7fdea805-0aac-46bb-d6b9-6df32d4a246d"
      },
      "execution_count": 4,
      "outputs": [
        {
          "output_type": "stream",
          "name": "stdout",
          "text": [
            "0\n",
            "1\n",
            "2\n",
            "3\n",
            "4\n"
          ]
        }
      ]
    },
    {
      "cell_type": "code",
      "source": [
        "a = 0\n",
        "while True:\n",
        "    print(a)\n",
        "    a = a + 1\n",
        "    if a >= 5:\n",
        "        break"
      ],
      "metadata": {
        "colab": {
          "base_uri": "https://localhost:8080/"
        },
        "id": "t1TGWVsyY3r6",
        "outputId": "f220917b-57da-48ef-f9af-7486afd5ed1b"
      },
      "execution_count": 6,
      "outputs": [
        {
          "output_type": "stream",
          "name": "stdout",
          "text": [
            "0\n",
            "1\n",
            "2\n",
            "3\n",
            "4\n"
          ]
        }
      ]
    },
    {
      "cell_type": "code",
      "source": [
        "#여러가지 선택지 중 하나를 선택해 입력받기\n",
        "# 4를 입력해야만 종료\n",
        "prompt = '''\n",
        "  1.ADD\n",
        "  2.DEL\n",
        "  3.LIST\n",
        "  4.QUIT\n",
        "\n",
        "  ENTER NUMBER : '''\n",
        "number = 0\n",
        "while number != 4:\n",
        "   print(prompt)\n",
        "   number = int(input())"
      ],
      "metadata": {
        "colab": {
          "base_uri": "https://localhost:8080/",
          "height": 460
        },
        "id": "FLCNfygHZJv0",
        "outputId": "b3069839-9d5c-43ea-f973-c1e24bd42f58"
      },
      "execution_count": 8,
      "outputs": [
        {
          "output_type": "stream",
          "name": "stdout",
          "text": [
            "\n",
            "  1.ADD\n",
            "  2.DEL\n",
            "  3.LIST\n",
            "  4.QUIT\n",
            "\n",
            "  ENTER NUMBER : \n"
          ]
        },
        {
          "output_type": "error",
          "ename": "KeyboardInterrupt",
          "evalue": "Interrupted by user",
          "traceback": [
            "\u001b[0;31m---------------------------------------------------------------------------\u001b[0m",
            "\u001b[0;31mKeyboardInterrupt\u001b[0m                         Traceback (most recent call last)",
            "\u001b[0;32m<ipython-input-8-f8114331d2ff>\u001b[0m in \u001b[0;36m<cell line: 11>\u001b[0;34m()\u001b[0m\n\u001b[1;32m     11\u001b[0m \u001b[0;32mwhile\u001b[0m \u001b[0mnumber\u001b[0m \u001b[0;34m!=\u001b[0m \u001b[0;36m4\u001b[0m\u001b[0;34m:\u001b[0m\u001b[0;34m\u001b[0m\u001b[0;34m\u001b[0m\u001b[0m\n\u001b[1;32m     12\u001b[0m    \u001b[0mprint\u001b[0m\u001b[0;34m(\u001b[0m\u001b[0mprompt\u001b[0m\u001b[0;34m)\u001b[0m\u001b[0;34m\u001b[0m\u001b[0;34m\u001b[0m\u001b[0m\n\u001b[0;32m---> 13\u001b[0;31m    \u001b[0mnumber\u001b[0m \u001b[0;34m=\u001b[0m \u001b[0mint\u001b[0m\u001b[0;34m(\u001b[0m\u001b[0minput\u001b[0m\u001b[0;34m(\u001b[0m\u001b[0;34m)\u001b[0m\u001b[0;34m)\u001b[0m\u001b[0;34m\u001b[0m\u001b[0;34m\u001b[0m\u001b[0m\n\u001b[0m",
            "\u001b[0;32m/usr/local/lib/python3.10/dist-packages/ipykernel/kernelbase.py\u001b[0m in \u001b[0;36mraw_input\u001b[0;34m(self, prompt)\u001b[0m\n\u001b[1;32m    849\u001b[0m                 \u001b[0;34m\"raw_input was called, but this frontend does not support input requests.\"\u001b[0m\u001b[0;34m\u001b[0m\u001b[0;34m\u001b[0m\u001b[0m\n\u001b[1;32m    850\u001b[0m             )\n\u001b[0;32m--> 851\u001b[0;31m         return self._input_request(str(prompt),\n\u001b[0m\u001b[1;32m    852\u001b[0m             \u001b[0mself\u001b[0m\u001b[0;34m.\u001b[0m\u001b[0m_parent_ident\u001b[0m\u001b[0;34m,\u001b[0m\u001b[0;34m\u001b[0m\u001b[0;34m\u001b[0m\u001b[0m\n\u001b[1;32m    853\u001b[0m             \u001b[0mself\u001b[0m\u001b[0;34m.\u001b[0m\u001b[0m_parent_header\u001b[0m\u001b[0;34m,\u001b[0m\u001b[0;34m\u001b[0m\u001b[0;34m\u001b[0m\u001b[0m\n",
            "\u001b[0;32m/usr/local/lib/python3.10/dist-packages/ipykernel/kernelbase.py\u001b[0m in \u001b[0;36m_input_request\u001b[0;34m(self, prompt, ident, parent, password)\u001b[0m\n\u001b[1;32m    893\u001b[0m             \u001b[0;32mexcept\u001b[0m \u001b[0mKeyboardInterrupt\u001b[0m\u001b[0;34m:\u001b[0m\u001b[0;34m\u001b[0m\u001b[0;34m\u001b[0m\u001b[0m\n\u001b[1;32m    894\u001b[0m                 \u001b[0;31m# re-raise KeyboardInterrupt, to truncate traceback\u001b[0m\u001b[0;34m\u001b[0m\u001b[0;34m\u001b[0m\u001b[0m\n\u001b[0;32m--> 895\u001b[0;31m                 \u001b[0;32mraise\u001b[0m \u001b[0mKeyboardInterrupt\u001b[0m\u001b[0;34m(\u001b[0m\u001b[0;34m\"Interrupted by user\"\u001b[0m\u001b[0;34m)\u001b[0m \u001b[0;32mfrom\u001b[0m \u001b[0;32mNone\u001b[0m\u001b[0;34m\u001b[0m\u001b[0;34m\u001b[0m\u001b[0m\n\u001b[0m\u001b[1;32m    896\u001b[0m             \u001b[0;32mexcept\u001b[0m \u001b[0mException\u001b[0m \u001b[0;32mas\u001b[0m \u001b[0me\u001b[0m\u001b[0;34m:\u001b[0m\u001b[0;34m\u001b[0m\u001b[0;34m\u001b[0m\u001b[0m\n\u001b[1;32m    897\u001b[0m                 \u001b[0mself\u001b[0m\u001b[0;34m.\u001b[0m\u001b[0mlog\u001b[0m\u001b[0;34m.\u001b[0m\u001b[0mwarning\u001b[0m\u001b[0;34m(\u001b[0m\u001b[0;34m\"Invalid Message:\"\u001b[0m\u001b[0;34m,\u001b[0m \u001b[0mexc_info\u001b[0m\u001b[0;34m=\u001b[0m\u001b[0;32mTrue\u001b[0m\u001b[0;34m)\u001b[0m\u001b[0;34m\u001b[0m\u001b[0;34m\u001b[0m\u001b[0m\n",
            "\u001b[0;31mKeyboardInterrupt\u001b[0m: Interrupted by user"
          ]
        }
      ]
    },
    {
      "cell_type": "code",
      "source": [
        "coffee = 10\n",
        "money = 300\n",
        "while money:\n",
        "  print('돈을 받았으니 커피를 줍니다.')\n",
        "  coffee = coffee - 1\n",
        "  print(f'남은 커피의 양은 {coffee}개입니다.')\n",
        "  if coffee == 0:\n",
        "    print('재료가 소진되었습니다. 판매를 중지합니다.')\n",
        "    break\n",
        ""
      ],
      "metadata": {
        "colab": {
          "base_uri": "https://localhost:8080/"
        },
        "id": "9n6WIvruZ1nJ",
        "outputId": "c6c40875-dc30-4727-9818-307d880ad010"
      },
      "execution_count": 11,
      "outputs": [
        {
          "output_type": "stream",
          "name": "stdout",
          "text": [
            "돈을 받았으니 커피를 줍니다.\n",
            "남은 커피의 양은 9개입니다.\n",
            "돈을 받았으니 커피를 줍니다.\n",
            "남은 커피의 양은 8개입니다.\n",
            "돈을 받았으니 커피를 줍니다.\n",
            "남은 커피의 양은 7개입니다.\n",
            "돈을 받았으니 커피를 줍니다.\n",
            "남은 커피의 양은 6개입니다.\n",
            "돈을 받았으니 커피를 줍니다.\n",
            "남은 커피의 양은 5개입니다.\n",
            "돈을 받았으니 커피를 줍니다.\n",
            "남은 커피의 양은 4개입니다.\n",
            "돈을 받았으니 커피를 줍니다.\n",
            "남은 커피의 양은 3개입니다.\n",
            "돈을 받았으니 커피를 줍니다.\n",
            "남은 커피의 양은 2개입니다.\n",
            "돈을 받았으니 커피를 줍니다.\n",
            "남은 커피의 양은 1개입니다.\n",
            "돈을 받았으니 커피를 줍니다.\n",
            "남은 커피의 양은 0개입니다.\n",
            "재료가 소진되었습니다. 판매를 중지합니다.\n"
          ]
        }
      ]
    },
    {
      "cell_type": "code",
      "source": [
        "a=0\n",
        "while a<10:\n",
        "  a += 1\n",
        "  if a % 2 == 0 :\n",
        "      continue\n",
        "  print(a)"
      ],
      "metadata": {
        "colab": {
          "base_uri": "https://localhost:8080/"
        },
        "id": "Hxc4kasHafrV",
        "outputId": "b7e0b25e-bdf8-48aa-ebd3-a8281c377052"
      },
      "execution_count": 13,
      "outputs": [
        {
          "output_type": "stream",
          "name": "stdout",
          "text": [
            "1\n",
            "3\n",
            "5\n",
            "7\n",
            "9\n"
          ]
        }
      ]
    }
  ]
}