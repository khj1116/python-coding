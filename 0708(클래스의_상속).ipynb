{
  "nbformat": 4,
  "nbformat_minor": 0,
  "metadata": {
    "colab": {
      "provenance": [],
      "authorship_tag": "ABX9TyOCcaRh9LXyqqM3aHZBSONt",
      "include_colab_link": true
    },
    "kernelspec": {
      "name": "python3",
      "display_name": "Python 3"
    },
    "language_info": {
      "name": "python"
    }
  },
  "cells": [
    {
      "cell_type": "markdown",
      "metadata": {
        "id": "view-in-github",
        "colab_type": "text"
      },
      "source": [
        "<a href=\"https://colab.research.google.com/github/khj1116/python-coding/blob/main/0708(%ED%81%B4%EB%9E%98%EC%8A%A4%EC%9D%98_%EC%83%81%EC%86%8D).ipynb\" target=\"_parent\"><img src=\"https://colab.research.google.com/assets/colab-badge.svg\" alt=\"Open In Colab\"/></a>"
      ]
    },
    {
      "cell_type": "code",
      "execution_count": 2,
      "metadata": {
        "colab": {
          "base_uri": "https://localhost:8080/"
        },
        "id": "vSGYousnntUf",
        "outputId": "785fcad8-f4d5-4a3a-e83f-2509d29483ff"
      },
      "outputs": [
        {
          "output_type": "stream",
          "name": "stdout",
          "text": [
            "안녕하세요.\n"
          ]
        }
      ],
      "source": [
        "#클래스\n",
        "class human:\n",
        "  def __init__(self):\n",
        "    print('안녕하세요.')\n",
        "\n",
        "\n",
        "areum = human()\n"
      ]
    },
    {
      "cell_type": "code",
      "source": [
        "class human:\n",
        "  def __init__(self,name,age,sex):\n",
        "    self.name = name\n",
        "    self.age = age\n",
        "    self.sex = sex\n",
        "\n",
        "\n",
        "areum = human('아름',25,'여자')\n",
        "print(areum.name)\n",
        "print(areum.age)\n",
        "print(areum.sex)\n"
      ],
      "metadata": {
        "colab": {
          "base_uri": "https://localhost:8080/"
        },
        "id": "Q4dzWx_lrCu0",
        "outputId": "5a83ab52-6e39-4537-9242-0eb3fad9bca4"
      },
      "execution_count": 6,
      "outputs": [
        {
          "output_type": "stream",
          "name": "stdout",
          "text": [
            "아름\n",
            "25\n",
            "여자\n"
          ]
        }
      ]
    },
    {
      "cell_type": "code",
      "source": [
        "class human:\n",
        "  def __init__(self,name,age,sex):\n",
        "    self.name = name\n",
        "    self.age = age\n",
        "    self.sex = sex\n",
        "\n",
        "  def who(self):\n",
        "    print('이름 : {0} 나이 : {1} 성별 : {2}'.format(self.name,self.age,self.sex))\n",
        "\n",
        "areum = human('아름',25,'여자')\n",
        "areum.who()\n",
        "\n"
      ],
      "metadata": {
        "colab": {
          "base_uri": "https://localhost:8080/"
        },
        "id": "mt_aNCyNrlJE",
        "outputId": "3f9dc644-034e-4912-a3da-5efefadae30e"
      },
      "execution_count": 9,
      "outputs": [
        {
          "output_type": "stream",
          "name": "stdout",
          "text": [
            "이름 : 아름 나이 : 25 성별 : 여자\n"
          ]
        }
      ]
    },
    {
      "cell_type": "code",
      "source": [
        "#클래스의 상속\n",
        "class 차 :   #부모 클래스\n",
        "  def __init__(self,바퀴,가격):\n",
        "    self.바퀴 = 바퀴\n",
        "    self.가격 = 가격\n",
        "\n",
        "class 자전차(차) : #상속받을 클래스\n",
        "  def __init__(self,바퀴,가격,구동계) :\n",
        "    super().__init__(바퀴,가격)   #클래스를 상속 받을때 반드시 정의(콜론 없음)\n",
        "    self.구동계 = 구동계\n",
        "\n",
        "bicycle = 자전차(2,500,'시마노')\n",
        "print(bicycle.바퀴)\n",
        "print(bicycle.가격)\n",
        "print(bicycle.구동계)\n"
      ],
      "metadata": {
        "colab": {
          "base_uri": "https://localhost:8080/"
        },
        "id": "pXY1lTJtsehQ",
        "outputId": "8c862395-4d4a-4901-fa8f-690bfb81d54e"
      },
      "execution_count": 12,
      "outputs": [
        {
          "output_type": "stream",
          "name": "stdout",
          "text": [
            "2\n",
            "500\n",
            "시마노\n"
          ]
        }
      ]
    },
    {
      "cell_type": "code",
      "source": [
        "class 차 :\n",
        "  def __init__(self,바퀴, 가격) :\n",
        "    self.바퀴 = 바퀴\n",
        "    self.가격 = 가격\n",
        "\n",
        "class 자동차(차) :\n",
        "  def __init__(self,바퀴,가격) :\n",
        "    super().__init__(바퀴,가격)\n",
        "\n",
        "  def info(self) :\n",
        "    print('바퀴수', self.바퀴)\n",
        "    print('가격', self.가격)\n",
        "\n",
        "\n",
        "car = 자동차(4,5000)\n",
        "car.info()"
      ],
      "metadata": {
        "colab": {
          "base_uri": "https://localhost:8080/"
        },
        "id": "MXx8ER3kuNNe",
        "outputId": "a2e164cc-5145-4cba-e544-ef059ce6e648"
      },
      "execution_count": 14,
      "outputs": [
        {
          "output_type": "stream",
          "name": "stdout",
          "text": [
            "바퀴수 4\n",
            "가격 5000\n"
          ]
        }
      ]
    },
    {
      "cell_type": "code",
      "source": [
        "class 부모 :\n",
        "  def __init__(self):\n",
        "    print('부모생성')\n",
        "\n",
        "class 자식(부모) :\n",
        "  def __init__(self):\n",
        "    print('자식생성')\n",
        "    super().__init__()\n",
        "나 = 자식()"
      ],
      "metadata": {
        "colab": {
          "base_uri": "https://localhost:8080/"
        },
        "id": "WfE4sJOivToi",
        "outputId": "955df809-e93e-436c-f533-14b8d9669976"
      },
      "execution_count": 16,
      "outputs": [
        {
          "output_type": "stream",
          "name": "stdout",
          "text": [
            "자식생성\n",
            "부모생성\n"
          ]
        }
      ]
    },
    {
      "cell_type": "code",
      "source": [
        "#예외 처리(try_except 문)\n",
        "\n",
        "try :\n",
        "  4/0\n",
        "\n",
        "except ZeroDivisionError as e :\n",
        "  print(e)\n",
        "\n"
      ],
      "metadata": {
        "colab": {
          "base_uri": "https://localhost:8080/"
        },
        "id": "IOXLGIciwFBw",
        "outputId": "399b422b-fe91-4ec9-8bdf-004def3a8858"
      },
      "execution_count": 20,
      "outputs": [
        {
          "output_type": "stream",
          "name": "stdout",
          "text": [
            "division by zero\n"
          ]
        }
      ]
    },
    {
      "cell_type": "code",
      "source": [
        "try :\n",
        "  a = [1,2]\n",
        "  print(a[3])\n",
        "  4/0\n",
        "except IndexError as e:\n",
        "  #print('인덱싱할 수 없어')\n",
        "  print(e)\n",
        "\n",
        "except ZeroDivisionError as e:\n",
        "  print(e)"
      ],
      "metadata": {
        "colab": {
          "base_uri": "https://localhost:8080/"
        },
        "id": "UQvsAtpHxoYT",
        "outputId": "fd45f9cf-2b62-4ea8-d21d-5ac7006f14e0"
      },
      "execution_count": 23,
      "outputs": [
        {
          "output_type": "stream",
          "name": "stdout",
          "text": [
            "list index out of range\n"
          ]
        }
      ]
    },
    {
      "cell_type": "code",
      "source": [
        "try :\n",
        "  age = int(input('나이입력 : '))\n",
        "except:\n",
        "  pass\n",
        "  #print('입력이 정확하지 않다')\n",
        "else:\n",
        "  if age <= 18 :\n",
        "    print('미성년자 출입금지')\n",
        "  else:\n",
        "    print('환영')"
      ],
      "metadata": {
        "colab": {
          "base_uri": "https://localhost:8080/"
        },
        "id": "7vHh9EscyPci",
        "outputId": "48ca6154-40ec-4a93-ccd8-e764c9d92085"
      },
      "execution_count": 27,
      "outputs": [
        {
          "name": "stdout",
          "output_type": "stream",
          "text": [
            "나이입력 : 열아홉\n"
          ]
        }
      ]
    }
  ]
}