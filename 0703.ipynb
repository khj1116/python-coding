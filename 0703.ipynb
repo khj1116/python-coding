{
  "nbformat": 4,
  "nbformat_minor": 0,
  "metadata": {
    "colab": {
      "provenance": [],
      "authorship_tag": "ABX9TyPu5PlNEr9afDWPnHVpX45E",
      "include_colab_link": true
    },
    "kernelspec": {
      "name": "python3",
      "display_name": "Python 3"
    },
    "language_info": {
      "name": "python"
    }
  },
  "cells": [
    {
      "cell_type": "markdown",
      "metadata": {
        "id": "view-in-github",
        "colab_type": "text"
      },
      "source": [
        "<a href=\"https://colab.research.google.com/github/khj1116/python-coding/blob/main/0703.ipynb\" target=\"_parent\"><img src=\"https://colab.research.google.com/assets/colab-badge.svg\" alt=\"Open In Colab\"/></a>"
      ]
    },
    {
      "cell_type": "code",
      "execution_count": null,
      "metadata": {
        "colab": {
          "base_uri": "https://localhost:8080/"
        },
        "id": "9FULi22J-zeo",
        "outputId": "6bdc1779-9d78-4729-b861-1ed7aa2eb1ea"
      },
      "outputs": [
        {
          "output_type": "stream",
          "name": "stdout",
          "text": [
            "11\n"
          ]
        }
      ],
      "source": [
        "#1. 입력값 존재, 리턴값 존재하는 경우\n",
        "def add(a, b):\n",
        "  return a + b\n",
        "\n",
        "a = 4\n",
        "b = 7\n",
        "\n",
        "print(add(a,b))"
      ]
    },
    {
      "cell_type": "code",
      "source": [
        "#2. 입력값 존재 x, 리턴값 있는 경우\n",
        "def say():\n",
        "  return 'Hi'\n",
        "a = say()\n",
        "print(a)"
      ],
      "metadata": {
        "colab": {
          "base_uri": "https://localhost:8080/"
        },
        "id": "yndcC8xIA14c",
        "outputId": "d51941b8-1bb8-471c-a529-c69c2a6d70a4"
      },
      "execution_count": null,
      "outputs": [
        {
          "output_type": "stream",
          "name": "stdout",
          "text": [
            "Hi\n"
          ]
        }
      ]
    },
    {
      "cell_type": "code",
      "source": [
        "#3. 입력값 존재, 리턴값은 없는 경우\n",
        "def add(a, b):\n",
        "  print('%d, %d의 합은 %d입니다.' % (a, b, a+b))\n",
        "add(5,6)"
      ],
      "metadata": {
        "colab": {
          "base_uri": "https://localhost:8080/"
        },
        "id": "z3RUR7HABSCq",
        "outputId": "839744f0-7f12-40fd-e1ab-aac059d2d0ab"
      },
      "execution_count": null,
      "outputs": [
        {
          "output_type": "stream",
          "name": "stdout",
          "text": [
            "5, 6의 합은 11입니다.\n"
          ]
        }
      ]
    },
    {
      "cell_type": "code",
      "source": [
        "#4. 입력값 없고, 리턴값 없는 경우\n",
        "def say():\n",
        "  print('hi')\n",
        "say()"
      ],
      "metadata": {
        "colab": {
          "base_uri": "https://localhost:8080/"
        },
        "id": "n8_hnyRICcz8",
        "outputId": "72c51964-2f5b-4ad7-8e24-322d1981b970"
      },
      "execution_count": null,
      "outputs": [
        {
          "output_type": "stream",
          "name": "stdout",
          "text": [
            "hi\n"
          ]
        }
      ]
    },
    {
      "cell_type": "code",
      "source": [
        "\n",
        "#문제 : 1번 형태로 sub(), 2번 형태로 mul(), 3번 형태로 div()함수 만들기\n",
        "def sub(x, y):\n",
        "  return x - y\n",
        "x = 52\n",
        "y = 48\n",
        "print(f\"{x}와 {y}의 차는 {sub(x,y)}\")\n",
        "\n",
        "def mul():\n",
        "  i = 4\n",
        "  j = 6\n",
        "  return i * j\n",
        "a = mul()\n",
        "print(a)\n",
        "\n",
        "def div(a, b):\n",
        "  if b == 0:\n",
        "    print(\"0으로 나눌 수 없습니다. \")\n",
        "  else:\n",
        "    print('%d, %d의 나눗셈은 %d입니다.' % (a, b, a/b))\n",
        "div(24,8)\n"
      ],
      "metadata": {
        "colab": {
          "base_uri": "https://localhost:8080/"
        },
        "id": "5aYbgDKDDDA3",
        "outputId": "5d90a77b-ac65-4548-9773-d87510c5fb2d"
      },
      "execution_count": null,
      "outputs": [
        {
          "output_type": "stream",
          "name": "stdout",
          "text": [
            "52와 48의 차는 4\n",
            "24\n",
            "24, 8의 나눗셈은 3입니다.\n"
          ]
        }
      ]
    },
    {
      "cell_type": "code",
      "source": [
        "#문제 : 줄을 바꿔 문자2개를 입력받고, 순서를 바꿔 한 줄씩 출력해보자.\n",
        "a = input()\n",
        "b = input()\n",
        "print(\"----\")\n",
        "print(b)\n",
        "print(a)"
      ],
      "metadata": {
        "colab": {
          "base_uri": "https://localhost:8080/"
        },
        "id": "YwOW51XZKtkw",
        "outputId": "d7dc1682-008e-4fce-e051-23469842b428"
      },
      "execution_count": null,
      "outputs": [
        {
          "output_type": "stream",
          "name": "stdout",
          "text": [
            "y\n",
            "s\n",
            "----\n",
            "s\n",
            "y\n"
          ]
        }
      ]
    },
    {
      "cell_type": "code",
      "source": [
        "def print_key(*arg):\n",
        "  result = 0\n",
        "\n",
        "  for i in arg:\n",
        "    result += i\n",
        "  return result\n",
        "a = print_key(1,2,3)\n",
        "print(a)\n",
        "a = print_key(6,7,8,9)\n",
        "print(a)"
      ],
      "metadata": {
        "colab": {
          "base_uri": "https://localhost:8080/"
        },
        "id": "KPdliRmjM8VP",
        "outputId": "18366d97-4886-489d-a569-cb5ceddb5810"
      },
      "execution_count": null,
      "outputs": [
        {
          "output_type": "stream",
          "name": "stdout",
          "text": [
            "6\n",
            "30\n"
          ]
        }
      ]
    },
    {
      "cell_type": "code",
      "source": [
        "def add_mul(choice, *arg):\n",
        "  if choice == 'add':\n",
        "    result = 0\n",
        "    for i in arg:\n",
        "      result += i\n",
        "  elif choice == 'mul':\n",
        "    result = 1\n",
        "    for i in arg:\n",
        "      result *= i\n",
        "  return result\n",
        "\n",
        "result = add_mul('add', 1,2,3,4,5)\n",
        "print(result)\n",
        "result = add_mul('mul',1,2,3,4,5)\n",
        "print(result)\n",
        "\n"
      ],
      "metadata": {
        "colab": {
          "base_uri": "https://localhost:8080/"
        },
        "id": "dfOdDnVHOdSq",
        "outputId": "7b1f0e99-106e-4a4b-bd85-fab1081aecf3"
      },
      "execution_count": null,
      "outputs": [
        {
          "output_type": "stream",
          "name": "stdout",
          "text": [
            "15\n",
            "120\n"
          ]
        }
      ]
    },
    {
      "cell_type": "code",
      "source": [
        "def add_mul(a,b):\n",
        "  return a + b, a * b\n",
        "result = add_mul(3,4)\n",
        "print(result)\n",
        "\n",
        "res1, res2 = add_mul(3,4) #수정, 가공이 불가\n",
        "print(res1, res2) #수정, 가공이 가능한 형태로 출력\n",
        "\n"
      ],
      "metadata": {
        "colab": {
          "base_uri": "https://localhost:8080/"
        },
        "id": "3lKA1_jkRPJ5",
        "outputId": "28ba12c3-0f9b-48f8-d7dd-806dc73c653e"
      },
      "execution_count": null,
      "outputs": [
        {
          "output_type": "stream",
          "name": "stdout",
          "text": [
            "(7, 12)\n",
            "7 12\n"
          ]
        }
      ]
    },
    {
      "cell_type": "code",
      "source": [
        "def say_myself(name, age, man=True):\n",
        "  print('내 이름은 %s입니다.' %name)\n",
        "  print('나이는 %d세입니다.' %age)\n",
        "  if man:\n",
        "    print('성별은 남성입니다.')\n",
        "  else:\n",
        "    print('성별은 여성입니다.')\n",
        "say_myself('김현준', 30)"
      ],
      "metadata": {
        "colab": {
          "base_uri": "https://localhost:8080/"
        },
        "id": "JQgSmKXFV7LV",
        "outputId": "c72eac9f-53e4-4997-8083-80cf9a5998e0"
      },
      "execution_count": null,
      "outputs": [
        {
          "output_type": "stream",
          "name": "stdout",
          "text": [
            "내 이름은 김현준입니다.\n",
            "나이는 30세입니다.\n",
            "성별은 남성입니다.\n"
          ]
        }
      ]
    },
    {
      "cell_type": "code",
      "source": [
        "a = 1\n",
        "def test(a):\n",
        "  a = a+1\n",
        "  #return a\n",
        "\n",
        "test(a)\n",
        "print(a)"
      ],
      "metadata": {
        "colab": {
          "base_uri": "https://localhost:8080/"
        },
        "id": "xCDkoaoDXSY6",
        "outputId": "b2c69fed-11bf-4180-f6a4-65a40d34356a"
      },
      "execution_count": null,
      "outputs": [
        {
          "output_type": "stream",
          "name": "stdout",
          "text": [
            "1\n"
          ]
        }
      ]
    },
    {
      "cell_type": "code",
      "source": [
        "a = 1\n",
        "def vartest():\n",
        "  global a\n",
        "  a = a + 1\n",
        "\n",
        "\n",
        "vartest()\n",
        "print(a)"
      ],
      "metadata": {
        "colab": {
          "base_uri": "https://localhost:8080/"
        },
        "id": "4ECvVyrfYrMW",
        "outputId": "8735a954-d01f-427a-ebc6-b93b0e17f8aa"
      },
      "execution_count": null,
      "outputs": [
        {
          "output_type": "stream",
          "name": "stdout",
          "text": [
            "2\n"
          ]
        }
      ]
    },
    {
      "cell_type": "code",
      "source": [
        "class FourCal:\n",
        "  pass\n",
        "a = FourCal()\n",
        "print(type(a))\n"
      ],
      "metadata": {
        "colab": {
          "base_uri": "https://localhost:8080/"
        },
        "id": "fE5TullGZkkd",
        "outputId": "823302b1-e49f-4ba7-ee62-7c0335cf6f77"
      },
      "execution_count": null,
      "outputs": [
        {
          "output_type": "stream",
          "name": "stdout",
          "text": [
            "<class '__main__.FourCal'>\n"
          ]
        }
      ]
    },
    {
      "cell_type": "code",
      "source": [
        "class FourCal:\n",
        "  def set_data(self, first, second):\n",
        "    self.first = first\n",
        "    self.second = second\n",
        "  def add(self):\n",
        "    result = self.first + self.second\n",
        "    return result\n",
        "\n",
        "a = FourCal() #객체(인스턴스)생성\n",
        "a.set_data(4,2) #변수 정의\n",
        "\n",
        "print(a.add()) #메서드 호출"
      ],
      "metadata": {
        "colab": {
          "base_uri": "https://localhost:8080/"
        },
        "id": "GmF9VrmkbZpK",
        "outputId": "39448b2b-fd05-4c04-d362-a4192180e7b3"
      },
      "execution_count": null,
      "outputs": [
        {
          "output_type": "stream",
          "name": "stdout",
          "text": [
            "6\n"
          ]
        }
      ]
    },
    {
      "cell_type": "code",
      "source": [
        "class FourCal:\n",
        "  def set_data(self, first, second):\n",
        "    self.first = first\n",
        "    self.second = second\n",
        "  def add(self):\n",
        "    result = self.first + self.second\n",
        "    return result\n",
        "\n",
        "a = FourCal() #객체(인스턴스)생성\n",
        "b = FourCal()\n",
        "a.set_data(4,2) #변수 정의\n",
        "b.set_data(5,7)\n",
        "print(a.add())\n",
        "print(b.add())"
      ],
      "metadata": {
        "colab": {
          "base_uri": "https://localhost:8080/"
        },
        "id": "ZPelML1YdzyU",
        "outputId": "9364dc30-7a24-49e1-ad1e-29b3166ffbc5"
      },
      "execution_count": null,
      "outputs": [
        {
          "output_type": "stream",
          "name": "stdout",
          "text": [
            "6\n",
            "12\n"
          ]
        }
      ]
    },
    {
      "cell_type": "code",
      "source": [
        "class FourCal:\n",
        "  def __init__(self, first, second):\n",
        "    self.first = first\n",
        "    self.second = second\n",
        "\n",
        "a = FourCal(4,2) #객체(인스턴스)생성\n",
        "a.first\n"
      ],
      "metadata": {
        "id": "eUTLPZAgfj59",
        "colab": {
          "base_uri": "https://localhost:8080/"
        },
        "outputId": "9b79c345-346d-4000-c2ed-c2f5e29171df"
      },
      "execution_count": 64,
      "outputs": [
        {
          "output_type": "execute_result",
          "data": {
            "text/plain": [
              "4"
            ]
          },
          "metadata": {},
          "execution_count": 64
        }
      ]
    },
    {
      "cell_type": "code",
      "source": [
        "class student():\n",
        "  def __init__(self, name, age, like):\n",
        "    self.name = name\n",
        "    self.age = age\n",
        "    self.like = like\n",
        "  def studentinfo(self):\n",
        "    print(f\"이름 : {self.name}, 나이 : {self.age}, 좋아하는 것 : {self.like}\")\n",
        "a = student(\"김철수\", 17, '축구') #첫번째 인스턴스 생성\n",
        "b = student(\"장다인\", 5, '헬로카봇') #두번째 인스턴스 생성\n",
        "a.studentinfo()\n",
        "b.studentinfo()\n"
      ],
      "metadata": {
        "colab": {
          "base_uri": "https://localhost:8080/"
        },
        "id": "9Gi0EPa7kV_Y",
        "outputId": "cbda7417-6d3d-40dd-d378-89304ed70adf"
      },
      "execution_count": 80,
      "outputs": [
        {
          "output_type": "stream",
          "name": "stdout",
          "text": [
            "이름 : 김철수, 나이 : 17, 좋아하는 것 : 축구\n",
            "이름 : 장다인, 나이 : 5, 좋아하는 것 : 헬로카봇\n"
          ]
        }
      ]
    },
    {
      "cell_type": "code",
      "source": [
        "class Mother():\n",
        "  def __init__(self):\n",
        "    print('키가크다')\n",
        "    print('공부를 잘한다')\n",
        "\n",
        "class Daughter(Mother):\n",
        "  def __init__(self):\n",
        "    super().__init__()\n",
        "    print('운동을 잘한다')\n",
        "\n",
        "print('딸은')\n",
        "딸 = Daughter()"
      ],
      "metadata": {
        "colab": {
          "base_uri": "https://localhost:8080/"
        },
        "id": "oZ3MQfppohKX",
        "outputId": "c0c6809f-4374-478a-fedc-b4b1b48cca3a"
      },
      "execution_count": 86,
      "outputs": [
        {
          "output_type": "stream",
          "name": "stdout",
          "text": [
            "딸은\n",
            "키가크다\n",
            "공부를 잘한다\n",
            "운동을 잘한다\n"
          ]
        }
      ]
    },
    {
      "cell_type": "code",
      "source": [
        "class Dog:\n",
        "  s = \"Families\"\n",
        "  def __init__(self, name, age):\n",
        "    self.name = name\n",
        "    self.age = age\n",
        "\n",
        "  def __str__(self):\n",
        "    return f\"{self.name} is {self.age} years old\"\n",
        "\n",
        "  def speak(self,sound):\n",
        "    return f'{self.name} says {sound}'\n",
        "\n",
        "class Samoyed(Dog):\n",
        "  def __init__(self, name, age):\n",
        "    super().__init__(name, age)\n",
        "  def speak(self, sound = 'YAP'):\n",
        "    return f'{self.name} says {sound}'\n",
        "'''\n",
        "kara = Dog(\"kara\", 4)\n",
        "wood = Dog(\"wood\", 6)\n",
        "wood.speak('wal')\n",
        "print(wood)\n",
        "print(kara)\n",
        "'''\n",
        "kara = Samoyed('kara', 4)\n",
        "kara.speak()"
      ],
      "metadata": {
        "colab": {
          "base_uri": "https://localhost:8080/",
          "height": 35
        },
        "id": "AQyPuc8AqVzL",
        "outputId": "3b173342-7407-4e55-a718-aa396e21322a"
      },
      "execution_count": 93,
      "outputs": [
        {
          "output_type": "execute_result",
          "data": {
            "text/plain": [
              "'kara says YAP'"
            ],
            "application/vnd.google.colaboratory.intrinsic+json": {
              "type": "string"
            }
          },
          "metadata": {},
          "execution_count": 93
        }
      ]
    }
  ]
}