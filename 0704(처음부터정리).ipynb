{
  "nbformat": 4,
  "nbformat_minor": 0,
  "metadata": {
    "colab": {
      "provenance": [],
      "authorship_tag": "ABX9TyNKpDz19Lx58pgK/A0I+cNy",
      "include_colab_link": true
    },
    "kernelspec": {
      "name": "python3",
      "display_name": "Python 3"
    },
    "language_info": {
      "name": "python"
    }
  },
  "cells": [
    {
      "cell_type": "markdown",
      "metadata": {
        "id": "view-in-github",
        "colab_type": "text"
      },
      "source": [
        "<a href=\"https://colab.research.google.com/github/khj1116/python-coding/blob/main/0704(%EC%B2%98%EC%9D%8C%EB%B6%80%ED%84%B0%EC%A0%95%EB%A6%AC).ipynb\" target=\"_parent\"><img src=\"https://colab.research.google.com/assets/colab-badge.svg\" alt=\"Open In Colab\"/></a>"
      ]
    },
    {
      "cell_type": "code",
      "execution_count": 2,
      "metadata": {
        "colab": {
          "base_uri": "https://localhost:8080/"
        },
        "id": "wavBxqqHAsor",
        "outputId": "335482db-f576-413a-a1ee-ef198edf449d"
      },
      "outputs": [
        {
          "output_type": "stream",
          "name": "stdout",
          "text": [
            "hello\n"
          ]
        }
      ],
      "source": [
        "# 처음부터 총 정리(입력, 출력, 조건, 반복) -> 함수와 클래스 -> 모듈 -> 패키지\n",
        "#print부터\n",
        "print('hello')\n"
      ]
    },
    {
      "cell_type": "code",
      "source": [
        "print(\"hello\")"
      ],
      "metadata": {
        "colab": {
          "base_uri": "https://localhost:8080/"
        },
        "id": "gB6Gqy0FGAxW",
        "outputId": "fa57fab7-b50f-4305-9ca7-4b4d99322d44"
      },
      "execution_count": 3,
      "outputs": [
        {
          "output_type": "stream",
          "name": "stdout",
          "text": [
            "hello\n"
          ]
        }
      ]
    },
    {
      "cell_type": "code",
      "source": [
        "print('hello \"안녕하세요\"')"
      ],
      "metadata": {
        "colab": {
          "base_uri": "https://localhost:8080/"
        },
        "id": "hLxjm0o_GGAU",
        "outputId": "2ee1d9a0-d0b7-41c3-b007-871fe36342e6"
      },
      "execution_count": 4,
      "outputs": [
        {
          "output_type": "stream",
          "name": "stdout",
          "text": [
            "hello \"안녕하세요\"\n"
          ]
        }
      ]
    },
    {
      "cell_type": "code",
      "source": [
        "print(\"hello '안녕하세요'\")"
      ],
      "metadata": {
        "colab": {
          "base_uri": "https://localhost:8080/"
        },
        "id": "_nRLwGUxGQIm",
        "outputId": "ef9e1568-f7bb-4fb0-df2c-34f15af91a5f"
      },
      "execution_count": 5,
      "outputs": [
        {
          "output_type": "stream",
          "name": "stdout",
          "text": [
            "hello '안녕하세요'\n"
          ]
        }
      ]
    },
    {
      "cell_type": "code",
      "source": [
        "print('안녕','하세요',\"반갑습니다\")"
      ],
      "metadata": {
        "colab": {
          "base_uri": "https://localhost:8080/"
        },
        "id": "aLc2psyhGXlM",
        "outputId": "b8c1635e-2abd-4b83-fad4-64a05e6131d2"
      },
      "execution_count": 6,
      "outputs": [
        {
          "output_type": "stream",
          "name": "stdout",
          "text": [
            "안녕 하세요 반갑습니다\n"
          ]
        }
      ]
    },
    {
      "cell_type": "code",
      "source": [
        "print('안녕' + '하세요' + ' 반갑습니다')"
      ],
      "metadata": {
        "colab": {
          "base_uri": "https://localhost:8080/"
        },
        "id": "shleTjaxGkG0",
        "outputId": "40727bc6-9737-49dc-f6d6-011a6abbd3ff"
      },
      "execution_count": 8,
      "outputs": [
        {
          "output_type": "stream",
          "name": "stdout",
          "text": [
            "안녕하세요 반갑습니다\n"
          ]
        }
      ]
    },
    {
      "cell_type": "code",
      "source": [
        "print(\"\"\"안녕하세요\n",
        "         오늘은 날씨가 좋네요\"\"\")"
      ],
      "metadata": {
        "colab": {
          "base_uri": "https://localhost:8080/"
        },
        "id": "PUb9v78DGvzV",
        "outputId": "93bed58b-5d4c-4079-9b12-af8061043e9e"
      },
      "execution_count": 12,
      "outputs": [
        {
          "output_type": "stream",
          "name": "stdout",
          "text": [
            "안녕하세요\n",
            "         오늘은 날씨가 좋네요\n"
          ]
        }
      ]
    },
    {
      "cell_type": "code",
      "source": [
        "print('''안녕하세요\n",
        "오늘은 좋네요''')"
      ],
      "metadata": {
        "colab": {
          "base_uri": "https://localhost:8080/"
        },
        "id": "TG510zvzG7gm",
        "outputId": "48e73af7-b77a-45c4-801b-c17a88fafe59"
      },
      "execution_count": 14,
      "outputs": [
        {
          "output_type": "stream",
          "name": "stdout",
          "text": [
            "안녕하세요\n",
            "오늘은 좋네요\n"
          ]
        }
      ]
    },
    {
      "cell_type": "code",
      "source": [
        "print(\"안녕하세요\"\\\n",
        "      '오늘은 날씨가 좋네요')"
      ],
      "metadata": {
        "colab": {
          "base_uri": "https://localhost:8080/"
        },
        "id": "0-VJZI66GtUl",
        "outputId": "725429fd-44b3-4f4a-aa7a-27e14f9b60a3"
      },
      "execution_count": 15,
      "outputs": [
        {
          "output_type": "stream",
          "name": "stdout",
          "text": [
            "안녕하세요오늘은 날씨가 좋네요\n"
          ]
        }
      ]
    },
    {
      "cell_type": "code",
      "source": [
        "a = 123\n",
        "b = '안녕하세요'\n",
        "print('a값:{} b값:{}'.format(a, b))"
      ],
      "metadata": {
        "colab": {
          "base_uri": "https://localhost:8080/"
        },
        "id": "WWX4EmjJHWzh",
        "outputId": "3bea2fdf-c06e-457c-ca2e-0c4e679ec615"
      },
      "execution_count": 19,
      "outputs": [
        {
          "output_type": "stream",
          "name": "stdout",
          "text": [
            "a값:123 b값:안녕하세요\n"
          ]
        }
      ]
    },
    {
      "cell_type": "code",
      "source": [
        "a = 123\n",
        "b = '안녕하세요'\n",
        "print(f'a값:{a} b값:{b}')"
      ],
      "metadata": {
        "colab": {
          "base_uri": "https://localhost:8080/"
        },
        "id": "DS6eBTMkIbEF",
        "outputId": "049eb196-6e7a-4599-e204-4e31a61fd2eb"
      },
      "execution_count": 20,
      "outputs": [
        {
          "output_type": "stream",
          "name": "stdout",
          "text": [
            "a값:123 b값:안녕하세요\n"
          ]
        }
      ]
    },
    {
      "cell_type": "code",
      "source": [
        "a = float(input('첫번째 문자열 입력 : '))\n",
        "b = float(input('두번째 문자열 입력 : '))\n",
        "print(a/b)"
      ],
      "metadata": {
        "colab": {
          "base_uri": "https://localhost:8080/"
        },
        "id": "dpwEronjIiOw",
        "outputId": "195b2947-471b-4ec9-9bc7-5ca521e6f946"
      },
      "execution_count": 24,
      "outputs": [
        {
          "output_type": "stream",
          "name": "stdout",
          "text": [
            "첫번째 문자열 입력 : 1\n",
            "두번째 문자열 입력 : 3\n",
            "0.3333333333333333\n"
          ]
        }
      ]
    },
    {
      "cell_type": "code",
      "source": [
        "a = input('첫번째 문자열 입력 : ')\n",
        "b = int(input('두번째 문자열 입력 : '))\n",
        "print(a+b)"
      ],
      "metadata": {
        "colab": {
          "base_uri": "https://localhost:8080/",
          "height": 211
        },
        "id": "RFB5u3KQJcfn",
        "outputId": "606eefc8-0350-431f-eec4-86d4b3fadff1"
      },
      "execution_count": 26,
      "outputs": [
        {
          "name": "stdout",
          "output_type": "stream",
          "text": [
            "첫번째 문자열 입력 : 10\n",
            "두번째 문자열 입력 : 2\n"
          ]
        },
        {
          "output_type": "error",
          "ename": "TypeError",
          "evalue": "can only concatenate str (not \"int\") to str",
          "traceback": [
            "\u001b[0;31m---------------------------------------------------------------------------\u001b[0m",
            "\u001b[0;31mTypeError\u001b[0m                                 Traceback (most recent call last)",
            "\u001b[0;32m<ipython-input-26-4bed64e7982a>\u001b[0m in \u001b[0;36m<cell line: 3>\u001b[0;34m()\u001b[0m\n\u001b[1;32m      1\u001b[0m \u001b[0ma\u001b[0m \u001b[0;34m=\u001b[0m \u001b[0minput\u001b[0m\u001b[0;34m(\u001b[0m\u001b[0;34m'첫번째 문자열 입력 : '\u001b[0m\u001b[0;34m)\u001b[0m\u001b[0;34m\u001b[0m\u001b[0;34m\u001b[0m\u001b[0m\n\u001b[1;32m      2\u001b[0m \u001b[0mb\u001b[0m \u001b[0;34m=\u001b[0m \u001b[0mint\u001b[0m\u001b[0;34m(\u001b[0m\u001b[0minput\u001b[0m\u001b[0;34m(\u001b[0m\u001b[0;34m'두번째 문자열 입력 : '\u001b[0m\u001b[0;34m)\u001b[0m\u001b[0;34m)\u001b[0m\u001b[0;34m\u001b[0m\u001b[0;34m\u001b[0m\u001b[0m\n\u001b[0;32m----> 3\u001b[0;31m \u001b[0mprint\u001b[0m\u001b[0;34m(\u001b[0m\u001b[0ma\u001b[0m\u001b[0;34m+\u001b[0m\u001b[0mb\u001b[0m\u001b[0;34m)\u001b[0m\u001b[0;34m\u001b[0m\u001b[0;34m\u001b[0m\u001b[0m\n\u001b[0m",
            "\u001b[0;31mTypeError\u001b[0m: can only concatenate str (not \"int\") to str"
          ]
        }
      ]
    },
    {
      "cell_type": "code",
      "source": [
        "a = '10'\n",
        "b = 20\n",
        "print(int(a)+b)"
      ],
      "metadata": {
        "colab": {
          "base_uri": "https://localhost:8080/"
        },
        "id": "p-AZGLf6KDYb",
        "outputId": "3339ce9c-4c3d-4ab9-f282-aa382ad27570"
      },
      "execution_count": 27,
      "outputs": [
        {
          "output_type": "stream",
          "name": "stdout",
          "text": [
            "30\n"
          ]
        }
      ]
    },
    {
      "cell_type": "code",
      "source": [
        "a = '10'\n",
        "b = 20\n",
        "print(a+str(b))"
      ],
      "metadata": {
        "colab": {
          "base_uri": "https://localhost:8080/"
        },
        "id": "aiI3krQqKR0B",
        "outputId": "37bf7e63-eaad-4f55-d7c0-c07ef8600849"
      },
      "execution_count": 28,
      "outputs": [
        {
          "output_type": "stream",
          "name": "stdout",
          "text": [
            "1020\n"
          ]
        }
      ]
    },
    {
      "cell_type": "code",
      "source": [
        "ab = True\n",
        "bb = False\n",
        "ai = 1\n",
        "bi = 0\n",
        "type(bb)\n"
      ],
      "metadata": {
        "colab": {
          "base_uri": "https://localhost:8080/"
        },
        "id": "QPFbmbbXKaeN",
        "outputId": "9aa16fd6-6011-41c3-db8c-c9e78161c4d8"
      },
      "execution_count": 31,
      "outputs": [
        {
          "output_type": "execute_result",
          "data": {
            "text/plain": [
              "bool"
            ]
          },
          "metadata": {},
          "execution_count": 31
        }
      ]
    },
    {
      "cell_type": "code",
      "source": [
        "a = 3\n",
        "b = 4\n",
        "print(a+b)\n",
        "print(a-b)\n",
        "print(a*b)\n",
        "print(a/b)\n",
        "print(a**b)\n",
        "print(a%b)\n",
        "print(b//a)\n"
      ],
      "metadata": {
        "colab": {
          "base_uri": "https://localhost:8080/"
        },
        "id": "Uu1_hnBJLGMP",
        "outputId": "a0d419a3-1d95-4450-863e-6b6083217d2f"
      },
      "execution_count": 35,
      "outputs": [
        {
          "output_type": "stream",
          "name": "stdout",
          "text": [
            "7\n",
            "-1\n",
            "12\n",
            "0.75\n",
            "81\n",
            "3\n",
            "1\n"
          ]
        }
      ]
    },
    {
      "cell_type": "code",
      "source": [
        "head = 'Python'\n",
        "tail = 'is fun'\n",
        "print(head+tail)\n",
        "print(head*2)\n",
        "head = head + tail\n",
        "print(head)\n",
        "print(len(head))"
      ],
      "metadata": {
        "colab": {
          "base_uri": "https://localhost:8080/"
        },
        "id": "PTy0XQHsLf3o",
        "outputId": "18080ff4-a26d-4cec-c622-c50450d11931"
      },
      "execution_count": 40,
      "outputs": [
        {
          "output_type": "stream",
          "name": "stdout",
          "text": [
            "Pythonis fun\n",
            "PythonPython\n",
            "Pythonis fun\n",
            "12\n"
          ]
        }
      ]
    },
    {
      "cell_type": "code",
      "source": [
        "a = 'Life is too short, You need Python'\n",
        "print(a[0])\n",
        "print(a[15:17])\n",
        "print(a[-6])\n",
        "print(a[:4])\n",
        "print(a[-6:])"
      ],
      "metadata": {
        "colab": {
          "base_uri": "https://localhost:8080/"
        },
        "id": "OhE51PuRL1ph",
        "outputId": "0c4a237e-724c-4f12-c602-c38466e86f04"
      },
      "execution_count": 47,
      "outputs": [
        {
          "output_type": "stream",
          "name": "stdout",
          "text": [
            "L\n",
            "rt\n",
            "P\n",
            "Life\n",
            "Python\n"
          ]
        }
      ]
    },
    {
      "cell_type": "code",
      "source": [
        "print('I eat %d apples.' % 3)\n",
        "print('I eat %s apples' % 'five')\n",
        "num = 3\n",
        "print('I eat %d apples.' % num)\n",
        "\n",
        "num = 10\n",
        "day = 'three'\n",
        "print('I eat %d apples. I was sick for %s '% (num, day))"
      ],
      "metadata": {
        "colab": {
          "base_uri": "https://localhost:8080/"
        },
        "id": "HxXBF5hELM2s",
        "outputId": "8096f681-8d29-4596-d28e-0f301f12da1f"
      },
      "execution_count": 52,
      "outputs": [
        {
          "output_type": "stream",
          "name": "stdout",
          "text": [
            "I eat 3 apples.\n",
            "I eat five apples\n",
            "I eat 3 apples.\n",
            "I eat 10 apples. I was sick for three \n"
          ]
        }
      ]
    },
    {
      "cell_type": "code",
      "source": [
        "print('%0.4f' % 3.1415926535)\n",
        "print('%10.4f' % 3.1415926535)"
      ],
      "metadata": {
        "colab": {
          "base_uri": "https://localhost:8080/"
        },
        "id": "rPmjiZw1RKkM",
        "outputId": "68e428cf-dbad-46ec-83f1-87918eb5b9cb"
      },
      "execution_count": 55,
      "outputs": [
        {
          "output_type": "stream",
          "name": "stdout",
          "text": [
            "3.1416\n",
            "    3.1416\n"
          ]
        }
      ]
    },
    {
      "cell_type": "code",
      "source": [
        "print('%10s' % 'hi')\n",
        "print('%-10s  jain' % 'hi')"
      ],
      "metadata": {
        "colab": {
          "base_uri": "https://localhost:8080/"
        },
        "id": "ev55qwj1SNwS",
        "outputId": "d16feeb1-bee8-431c-a258-a236a5c2ec72"
      },
      "execution_count": 59,
      "outputs": [
        {
          "output_type": "stream",
          "name": "stdout",
          "text": [
            "        hi\n",
            "hi          jain\n"
          ]
        }
      ]
    },
    {
      "cell_type": "code",
      "source": [
        "print('I eat {} apple'.format(3))\n",
        "print('I eat %d apples'%3)\n",
        "num = 3\n",
        "day = 'three'\n",
        "print('I eat {0} apples. so I was sick for {1} days'.format(num,day))\n",
        "print('I eat {1} apples. so I was sick for {0} days'.format(num,day))"
      ],
      "metadata": {
        "colab": {
          "base_uri": "https://localhost:8080/"
        },
        "id": "xszXW6P2Sdef",
        "outputId": "a424d883-c6de-4514-c08a-c711154a0add"
      },
      "execution_count": 61,
      "outputs": [
        {
          "output_type": "stream",
          "name": "stdout",
          "text": [
            "I eat 3 apple\n",
            "I eat 3 apples\n",
            "I eat 3 apples. so I was sick for three days\n",
            "I eat three apples. so I was sick for 3 days\n"
          ]
        }
      ]
    },
    {
      "cell_type": "code",
      "source": [
        "name = '홍길동'\n",
        "age = 30\n",
        "print(f'나의 이름은 {name}입니다. 나이는 {age}세 입니다.')\n",
        "\n",
        "d = {'name' : '홍길동', 'age' : 30}\n",
        "print(f'나의이름은 {d[\"name\"]}입니다. 나이는 {d[\"age\"]}세 입니다.')"
      ],
      "metadata": {
        "colab": {
          "base_uri": "https://localhost:8080/"
        },
        "id": "Pb5CLcj7K4Gr",
        "outputId": "229eb79e-b69d-4e36-aea6-0293f94cdfe8"
      },
      "execution_count": 66,
      "outputs": [
        {
          "output_type": "stream",
          "name": "stdout",
          "text": [
            "나의 이름은 홍길동입니다. 나이는 30세 입니다.\n",
            "나의이름은 홍길동입니다. 나이는 30세 입니다.\n"
          ]
        }
      ]
    },
    {
      "cell_type": "code",
      "source": [
        "print(f'{\"hi\" :*<10}')\n",
        "print(f'{\"hi\":=>10}')\n",
        "print(f'{\"hi\":^10}')\n",
        "print(f'{{and}}')\n",
        "print(f'{\"hi\":=^10}')\n",
        "print(f'{\"hi\":*^10}')"
      ],
      "metadata": {
        "colab": {
          "base_uri": "https://localhost:8080/"
        },
        "id": "IPX-K3i6Ky4O",
        "outputId": "7e4c8c34-6caa-46f5-ecf6-c2a665318469"
      },
      "execution_count": 74,
      "outputs": [
        {
          "output_type": "stream",
          "name": "stdout",
          "text": [
            "hi********\n",
            "========hi\n",
            "    hi    \n",
            "{and}\n",
            "====hi====\n",
            "****hi****\n"
          ]
        }
      ]
    },
    {
      "cell_type": "code",
      "source": [
        "a = 'hobby'\n",
        "#print(len(a))\n",
        "#print(a.count('b'))\n",
        "#print(','.join(\"abcd\"))\n",
        "#print(','.join(a))\n",
        "a = 'Python is the best choice'\n",
        "print(a.find('b'))\n",
        "print(a.find('k')) #값의 존재 유무를 알고 싶을 때\n",
        "print(a.index('b')) #위치값을 알고 싶을 때\n",
        "print(a.index('k'))\n"
      ],
      "metadata": {
        "colab": {
          "base_uri": "https://localhost:8080/",
          "height": 228
        },
        "id": "AfIUkxSHJ1nj",
        "outputId": "2b41d28c-3e5b-44b9-c492-29f282952fd4"
      },
      "execution_count": 85,
      "outputs": [
        {
          "output_type": "stream",
          "name": "stdout",
          "text": [
            "14\n",
            "-1\n",
            "14\n"
          ]
        },
        {
          "output_type": "error",
          "ename": "ValueError",
          "evalue": "substring not found",
          "traceback": [
            "\u001b[0;31m---------------------------------------------------------------------------\u001b[0m",
            "\u001b[0;31mValueError\u001b[0m                                Traceback (most recent call last)",
            "\u001b[0;32m<ipython-input-85-f8b9cc73fd0a>\u001b[0m in \u001b[0;36m<cell line: 10>\u001b[0;34m()\u001b[0m\n\u001b[1;32m      8\u001b[0m \u001b[0mprint\u001b[0m\u001b[0;34m(\u001b[0m\u001b[0ma\u001b[0m\u001b[0;34m.\u001b[0m\u001b[0mfind\u001b[0m\u001b[0;34m(\u001b[0m\u001b[0;34m'k'\u001b[0m\u001b[0;34m)\u001b[0m\u001b[0;34m)\u001b[0m \u001b[0;31m#값의 존재 유무를 알고 싶을 때\u001b[0m\u001b[0;34m\u001b[0m\u001b[0;34m\u001b[0m\u001b[0m\n\u001b[1;32m      9\u001b[0m \u001b[0mprint\u001b[0m\u001b[0;34m(\u001b[0m\u001b[0ma\u001b[0m\u001b[0;34m.\u001b[0m\u001b[0mindex\u001b[0m\u001b[0;34m(\u001b[0m\u001b[0;34m'b'\u001b[0m\u001b[0;34m)\u001b[0m\u001b[0;34m)\u001b[0m \u001b[0;31m#위치값을 알고 싶을 때\u001b[0m\u001b[0;34m\u001b[0m\u001b[0;34m\u001b[0m\u001b[0m\n\u001b[0;32m---> 10\u001b[0;31m \u001b[0mprint\u001b[0m\u001b[0;34m(\u001b[0m\u001b[0ma\u001b[0m\u001b[0;34m.\u001b[0m\u001b[0mindex\u001b[0m\u001b[0;34m(\u001b[0m\u001b[0;34m'k'\u001b[0m\u001b[0;34m)\u001b[0m\u001b[0;34m)\u001b[0m\u001b[0;34m\u001b[0m\u001b[0;34m\u001b[0m\u001b[0m\n\u001b[0m",
            "\u001b[0;31mValueError\u001b[0m: substring not found"
          ]
        }
      ]
    },
    {
      "cell_type": "code",
      "source": [
        "a = 'hi'\n",
        "print(a.upper())\n",
        "a='Hi'\n",
        "print(a.lower())\n",
        "\n",
        "a= '   hi   '\n",
        "print(a.lstrip())   #왼쪽 정렬\n",
        "print(a.rstrip())  #오른쪽 정렬\n",
        "print(a.strip()) #공백 제거\n",
        "\n",
        "a = 'Life is too short'\n",
        "print(a.replace('Life', 'Your leg'))\n",
        "print(a.split())\n",
        "a = 'Life:is:too:short'\n",
        "print(a.split(':'))"
      ],
      "metadata": {
        "colab": {
          "base_uri": "https://localhost:8080/"
        },
        "id": "lbCn8WGpJYcw",
        "outputId": "fd52a4bf-3f76-4d28-b155-a0cc0f7bac63"
      },
      "execution_count": 93,
      "outputs": [
        {
          "output_type": "stream",
          "name": "stdout",
          "text": [
            "HI\n",
            "hi\n",
            "hi   \n",
            "   hi\n",
            "hi\n",
            "Your leg is too short\n",
            "['Life', 'is', 'too', 'short']\n",
            "['Life', 'is', 'too', 'short']\n"
          ]
        }
      ]
    },
    {
      "cell_type": "code",
      "source": [
        "a = []\n",
        "a = [1,2,3] #요소, 인덱스(위치값)\n",
        "a = ['life', 'is']\n",
        "a = [1,True,'life']"
      ],
      "metadata": {
        "id": "Ub2P503hJV4_"
      },
      "execution_count": null,
      "outputs": []
    },
    {
      "cell_type": "code",
      "source": [
        "a = [1,2,3,4,5]\n",
        "print(a)\n",
        "print(a[0])\n",
        "print(a[0]+a[4])\n",
        "print(a[-3])"
      ],
      "metadata": {
        "colab": {
          "base_uri": "https://localhost:8080/"
        },
        "id": "Y2BZ4mA_JK36",
        "outputId": "c2299a81-c826-4931-b285-57860cf9eb8f"
      },
      "execution_count": 98,
      "outputs": [
        {
          "output_type": "stream",
          "name": "stdout",
          "text": [
            "[1, 2, 3, 4, 5]\n",
            "1\n",
            "6\n",
            "3\n"
          ]
        }
      ]
    },
    {
      "cell_type": "code",
      "source": [
        "a = [1,2,3,['a','b','c']]\n",
        "print(a[0])\n",
        "print(a[3])\n",
        "print(a[3][1])\n",
        "print(a[-1][0])"
      ],
      "metadata": {
        "colab": {
          "base_uri": "https://localhost:8080/"
        },
        "id": "kHHd-9oCJASR",
        "outputId": "157d67b5-7a96-4eb2-d0e0-dc0e43dbdcba"
      },
      "execution_count": 101,
      "outputs": [
        {
          "output_type": "stream",
          "name": "stdout",
          "text": [
            "1\n",
            "['a', 'b', 'c']\n",
            "b\n",
            "a\n"
          ]
        }
      ]
    },
    {
      "cell_type": "code",
      "source": [
        "a = [1,2,3,['a','b','c'],['f','g','h']]\n",
        "#문제 f ,f, g, h, a ,h  출력\n",
        "print(a[-1][0])\n",
        "print(a[-1])\n",
        "print(a[3][0], a[-1][2])\n",
        "print(a[2:])\n"
      ],
      "metadata": {
        "colab": {
          "base_uri": "https://localhost:8080/"
        },
        "id": "0x0rFBa6IWqV",
        "outputId": "20fee1f1-e789-4907-fe22-745246cce33c"
      },
      "execution_count": 106,
      "outputs": [
        {
          "output_type": "stream",
          "name": "stdout",
          "text": [
            "f\n",
            "['f', 'g', 'h']\n",
            "a h\n",
            "[3, ['a', 'b', 'c'], ['f', 'g', 'h']]\n"
          ]
        }
      ]
    },
    {
      "cell_type": "code",
      "source": [
        "a = [1,2,3]\n",
        "b = [4,5,6]\n",
        "print(len(a))\n",
        "print(a+b)\n",
        "print(len(a*3))\n",
        "del(b[1])\n",
        "print(b)\n"
      ],
      "metadata": {
        "colab": {
          "base_uri": "https://localhost:8080/"
        },
        "id": "lf12CAdBIUXZ",
        "outputId": "78245784-e6cc-439a-9d44-a41d8a31e294"
      },
      "execution_count": 110,
      "outputs": [
        {
          "output_type": "stream",
          "name": "stdout",
          "text": [
            "3\n",
            "[1, 2, 3, 4, 5, 6]\n",
            "9\n",
            "[4, 6]\n"
          ]
        }
      ]
    },
    {
      "cell_type": "code",
      "source": [
        "a = [1,2,3]\n",
        "b = [4,6]\n",
        "\n",
        "b.append(5)\n",
        "del b[2:]\n",
        "b.append(8)\n",
        "b.append(5)\n",
        "b.sort() #오름차순 정렬\n",
        "b.reverse() #내림차순 정렬\n",
        "print(b)\n",
        "b.insert(0,10)\n",
        "b.insert(1,7) #(index, value)\n",
        "print(b)\n"
      ],
      "metadata": {
        "colab": {
          "base_uri": "https://localhost:8080/"
        },
        "id": "D-G_tWgtIL_Y",
        "outputId": "de8a5fce-ff20-4b1b-ef71-1782ed802e0f"
      },
      "execution_count": 134,
      "outputs": [
        {
          "output_type": "stream",
          "name": "stdout",
          "text": [
            "[8, 6, 5, 4]\n",
            "[10, 7, 8, 6, 5, 4]\n"
          ]
        }
      ]
    },
    {
      "cell_type": "code",
      "source": [
        "a = [1,2,3]\n",
        "a.insert(0,4)\n",
        "a.insert(3,5)\n",
        "print(a)\n",
        "\n",
        "b = [1,2,3,1,2,3]\n",
        "b.remove(3)\n",
        "print(b)\n",
        "c = [6,7]\n",
        "b.extend(c) #맨 뒤에 추가\n",
        "print(b)"
      ],
      "metadata": {
        "colab": {
          "base_uri": "https://localhost:8080/"
        },
        "id": "j200C0A2obJf",
        "outputId": "922e6c8e-cea1-46cf-a0b0-9dad85df6ee8"
      },
      "execution_count": 139,
      "outputs": [
        {
          "output_type": "stream",
          "name": "stdout",
          "text": [
            "[4, 1, 2, 5, 3]\n",
            "[1, 2, 1, 2, 3]\n",
            "[1, 2, 1, 2, 3, 6, 7]\n"
          ]
        }
      ]
    },
    {
      "cell_type": "code",
      "source": [
        "t1 = (1,)\n",
        "type(t1)\n",
        "t2 = (1,2,3)\n",
        "t3 = 1,2,3\n",
        "t4 = ('a', 'b', ('ab', 'cd'))\n",
        "print(t1+t2)\n",
        "print(len(t4))\n",
        "print(t2[0])\n",
        "t2[0] = 5 #튜플의 특징(변경불가)"
      ],
      "metadata": {
        "colab": {
          "base_uri": "https://localhost:8080/",
          "height": 228
        },
        "id": "OP61_LaEsfph",
        "outputId": "94829828-6587-41f5-948d-fa458ee29c3a"
      },
      "execution_count": 144,
      "outputs": [
        {
          "output_type": "stream",
          "name": "stdout",
          "text": [
            "(1, 1, 2, 3)\n",
            "3\n",
            "1\n"
          ]
        },
        {
          "output_type": "error",
          "ename": "TypeError",
          "evalue": "'tuple' object does not support item assignment",
          "traceback": [
            "\u001b[0;31m---------------------------------------------------------------------------\u001b[0m",
            "\u001b[0;31mTypeError\u001b[0m                                 Traceback (most recent call last)",
            "\u001b[0;32m<ipython-input-144-7376adbc7280>\u001b[0m in \u001b[0;36m<cell line: 9>\u001b[0;34m()\u001b[0m\n\u001b[1;32m      7\u001b[0m \u001b[0mprint\u001b[0m\u001b[0;34m(\u001b[0m\u001b[0mlen\u001b[0m\u001b[0;34m(\u001b[0m\u001b[0mt4\u001b[0m\u001b[0;34m)\u001b[0m\u001b[0;34m)\u001b[0m\u001b[0;34m\u001b[0m\u001b[0;34m\u001b[0m\u001b[0m\n\u001b[1;32m      8\u001b[0m \u001b[0mprint\u001b[0m\u001b[0;34m(\u001b[0m\u001b[0mt2\u001b[0m\u001b[0;34m[\u001b[0m\u001b[0;36m0\u001b[0m\u001b[0;34m]\u001b[0m\u001b[0;34m)\u001b[0m\u001b[0;34m\u001b[0m\u001b[0;34m\u001b[0m\u001b[0m\n\u001b[0;32m----> 9\u001b[0;31m \u001b[0mt2\u001b[0m\u001b[0;34m[\u001b[0m\u001b[0;36m0\u001b[0m\u001b[0;34m]\u001b[0m \u001b[0;34m=\u001b[0m \u001b[0;36m5\u001b[0m \u001b[0;31m#튜플의 특징(변경불가)\u001b[0m\u001b[0;34m\u001b[0m\u001b[0;34m\u001b[0m\u001b[0m\n\u001b[0m",
            "\u001b[0;31mTypeError\u001b[0m: 'tuple' object does not support item assignment"
          ]
        }
      ]
    },
    {
      "cell_type": "code",
      "source": [
        "a_dic = {'a':1,'b':2, 'c':'3', 'd': 3}\n",
        "print(a_dic)\n",
        "print(a_dic['a'])\n",
        "print(type(a_dic['c']))\n",
        "print(type(a_dic['c']))\n",
        "print(type(a_dic['d']))"
      ],
      "metadata": {
        "colab": {
          "base_uri": "https://localhost:8080/"
        },
        "id": "enyOy03ntnjb",
        "outputId": "afb2ccc2-0a79-439e-e201-a2cc4680a4cd"
      },
      "execution_count": 151,
      "outputs": [
        {
          "output_type": "stream",
          "name": "stdout",
          "text": [
            "{'a': 1, 'b': 2, 'c': '3', 'd': 3}\n",
            "1\n",
            "<class 'str'>\n",
            "<class 'str'>\n",
            "<class 'int'>\n"
          ]
        }
      ]
    },
    {
      "cell_type": "code",
      "source": [
        "a_dic['d'] = 10\n",
        "print(a_dic)"
      ],
      "metadata": {
        "colab": {
          "base_uri": "https://localhost:8080/"
        },
        "id": "WD53FCTVuvUO",
        "outputId": "bebd034f-96e4-4d8f-dfdd-7c9b8695fcf2"
      },
      "execution_count": 153,
      "outputs": [
        {
          "output_type": "stream",
          "name": "stdout",
          "text": [
            "{'a': 1, 'b': 2, 'c': '3', 'd': 10}\n"
          ]
        }
      ]
    },
    {
      "cell_type": "code",
      "source": [
        "a_set = set([1,2,3,4])\n",
        "print(a_set)"
      ],
      "metadata": {
        "colab": {
          "base_uri": "https://localhost:8080/"
        },
        "id": "VS4-r_PBvG6u",
        "outputId": "70ed51e8-d34e-4417-bd42-78d13520e8b1"
      },
      "execution_count": 158,
      "outputs": [
        {
          "output_type": "stream",
          "name": "stdout",
          "text": [
            "{1, 2, 3, 4}\n"
          ]
        }
      ]
    },
    {
      "cell_type": "code",
      "source": [
        "b_set = set([1,2,3,3,4,4,6,7,23,84,231,1886,12861,44]) #중복 삭제\n",
        "print(b_set)"
      ],
      "metadata": {
        "colab": {
          "base_uri": "https://localhost:8080/"
        },
        "id": "SrJWAJq5vKfS",
        "outputId": "29ebd232-f146-4bc7-f464-4779f9af26a6"
      },
      "execution_count": 167,
      "outputs": [
        {
          "output_type": "stream",
          "name": "stdout",
          "text": [
            "{1, 2, 3, 4, 6, 7, 231, 44, 84, 23, 12861, 1886}\n"
          ]
        }
      ]
    },
    {
      "cell_type": "code",
      "source": [
        "a_list = ['안녕', 1,2,'파이썬']\n",
        "if '안녕' not in a_list:  #true(안녕이 없어야)\n",
        "  print(\"없음\")\n",
        "else :\n",
        "  print(\"있음\")\n",
        "if 5 in a_list:\n",
        "  print(\"있음\")\n",
        "else :\n",
        "  print(\"없음\")"
      ],
      "metadata": {
        "colab": {
          "base_uri": "https://localhost:8080/"
        },
        "id": "ldc4Rr0zv-iQ",
        "outputId": "bb6aa099-4f9b-4683-c0b2-3144570d6167"
      },
      "execution_count": 170,
      "outputs": [
        {
          "output_type": "stream",
          "name": "stdout",
          "text": [
            "있음\n",
            "없음\n"
          ]
        }
      ]
    },
    {
      "cell_type": "code",
      "source": [
        "for i in range(1,10,3):   #range(시작값,끝값보다 하나 작은 값,증감값) :\n",
        "  print(i, end = ' ')"
      ],
      "metadata": {
        "colab": {
          "base_uri": "https://localhost:8080/"
        },
        "id": "ozdFkOcnyEQ1",
        "outputId": "4ef6835d-744c-4f3b-fee5-dc5adbec0ead"
      },
      "execution_count": 175,
      "outputs": [
        {
          "output_type": "stream",
          "name": "stdout",
          "text": [
            "1 4 7 "
          ]
        }
      ]
    },
    {
      "cell_type": "code",
      "source": [
        "for i in range(10,1, -3):\n",
        "  print(i, end = ' ')"
      ],
      "metadata": {
        "colab": {
          "base_uri": "https://localhost:8080/"
        },
        "id": "rVpHX45ay9s0",
        "outputId": "e2c40238-d3ce-40b7-e3ae-61af4a9484ad"
      },
      "execution_count": 177,
      "outputs": [
        {
          "output_type": "stream",
          "name": "stdout",
          "text": [
            "10 7 4 "
          ]
        }
      ]
    },
    {
      "cell_type": "code",
      "source": [
        "a_str = 'hello python'\n",
        "for i in a_str:\n",
        "  print(i)\n",
        ""
      ],
      "metadata": {
        "colab": {
          "base_uri": "https://localhost:8080/"
        },
        "id": "7ZlR4WYZzVP6",
        "outputId": "603d2f60-5498-43bb-f3ed-b51817f9d10a"
      },
      "execution_count": 181,
      "outputs": [
        {
          "output_type": "stream",
          "name": "stdout",
          "text": [
            "h\n",
            "e\n",
            "l\n",
            "l\n",
            "o\n",
            " \n",
            "p\n",
            "y\n",
            "t\n",
            "h\n",
            "o\n",
            "n\n"
          ]
        }
      ]
    },
    {
      "cell_type": "code",
      "source": [
        "name = ['홍길동', '장다인', '김철수']\n",
        "age = [10, 20, 30]\n",
        "\n",
        "#for i in name:           #i = name[0], i = name[1], i = name[2]\n",
        "#  print(name[i])\n",
        "\n",
        "for i in range(len(name)):\n",
        "  print(name[i])"
      ],
      "metadata": {
        "colab": {
          "base_uri": "https://localhost:8080/"
        },
        "id": "Kj4q68Lfz56j",
        "outputId": "a792ac89-b8a2-4a5d-d909-58dcd23ab3aa"
      },
      "execution_count": 206,
      "outputs": [
        {
          "output_type": "stream",
          "name": "stdout",
          "text": [
            "홍길동\n",
            "장다인\n",
            "김철수\n"
          ]
        }
      ]
    },
    {
      "cell_type": "code",
      "source": [],
      "metadata": {
        "id": "Sy_VZam1KPxF"
      },
      "execution_count": null,
      "outputs": []
    }
  ]
}